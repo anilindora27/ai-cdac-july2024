{
 "cells": [
  {
   "cell_type": "code",
   "execution_count": 4,
   "id": "146c8020-7c0b-4c9e-a9df-6bd96dde75a8",
   "metadata": {},
   "outputs": [
    {
     "name": "stdout",
     "output_type": "stream",
     "text": [
      "hellow, World \n"
     ]
    }
   ],
   "source": [
    "print(\"hellow, World \")"
   ]
  },
  {
   "cell_type": "markdown",
   "id": "dbd92c43-758b-4cbf-a0aa-a98a5c015ddf",
   "metadata": {},
   "source": [
    "##### simple python program"
   ]
  },
  {
   "cell_type": "code",
   "execution_count": 6,
   "id": "81d79410-3c2b-478d-932c-06d7abeaa7d9",
   "metadata": {},
   "outputs": [
    {
     "name": "stdin",
     "output_type": "stream",
     "text": [
      "Enter the temperature:  -40\n"
     ]
    },
    {
     "name": "stdout",
     "output_type": "stream",
     "text": [
      "Farhenite Temperature: -40.0\n"
     ]
    }
   ],
   "source": [
    "cent = int(input('Enter the temperature: '))\n",
    "far = cent*1.8+32\n",
    "print('Farhenite Temperature:', far)"
   ]
  },
  {
   "cell_type": "code",
   "execution_count": null,
   "id": "4e676486-cc29-418c-8e00-a2b92626141e",
   "metadata": {},
   "outputs": [],
   "source": [
    "type(cent)"
   ]
  },
  {
   "cell_type": "code",
   "execution_count": 9,
   "id": "32a53406-3d80-4afc-8a97-cdaf2852ed70",
   "metadata": {},
   "outputs": [
    {
     "data": {
      "text/plain": [
       "float"
      ]
     },
     "execution_count": 9,
     "metadata": {},
     "output_type": "execute_result"
    }
   ],
   "source": [
    "type(far)"
   ]
  },
  {
   "cell_type": "markdown",
   "id": "09817c9e-aa8c-48f9-a528-bbac7c2a5db4",
   "metadata": {},
   "source": [
    "#####  Decision Making Statements"
   ]
  },
  {
   "cell_type": "code",
   "execution_count": 17,
   "id": "639d3148-f5da-4382-b467-f2181747b2b3",
   "metadata": {},
   "outputs": [
    {
     "name": "stdin",
     "output_type": "stream",
     "text": [
      "Enter the Number:  0\n"
     ]
    },
    {
     "name": "stdout",
     "output_type": "stream",
     "text": [
      "Number is ZERO!\n"
     ]
    }
   ],
   "source": [
    "num = int(input('Enter the Number: '))\n",
    "if num>0:\n",
    "    print('Number is Positive!')\n",
    "elif num ==0:\n",
    "    print('Number is ZERO!')\n",
    "else:\n",
    "    print('Number is Negative!')"
   ]
  },
  {
   "cell_type": "markdown",
   "id": "2a5ff0be-a687-467e-b2ef-df5b84009586",
   "metadata": {},
   "source": [
    "##### Looping"
   ]
  },
  {
   "cell_type": "code",
   "execution_count": 19,
   "id": "97820d15-3fe3-4578-b454-8114899997ad",
   "metadata": {},
   "outputs": [
    {
     "name": "stdout",
     "output_type": "stream",
     "text": [
      "Anil\n",
      "Anil\n",
      "Anil\n",
      "Anil\n",
      "Anil\n",
      "Anil\n",
      "Anil\n",
      "Anil\n",
      "Anil\n",
      "Anil\n"
     ]
    }
   ],
   "source": [
    "count =0\n",
    "while count<10:\n",
    "    print('Anil')\n",
    "    count += 1"
   ]
  },
  {
   "cell_type": "code",
   "execution_count": 22,
   "id": "9e61b26c-36f0-4366-9260-2d0929e16a7d",
   "metadata": {},
   "outputs": [
    {
     "name": "stdout",
     "output_type": "stream",
     "text": [
      "67\n",
      "23\n",
      "16\n",
      "33\n",
      "27\n"
     ]
    }
   ],
   "source": [
    "for i in 67,23,16,33,27:\n",
    "    print(i)"
   ]
  },
  {
   "cell_type": "code",
   "execution_count": 23,
   "id": "23a66808-3309-4c28-9441-6bd5b3566394",
   "metadata": {},
   "outputs": [
    {
     "name": "stdout",
     "output_type": "stream",
     "text": [
      "PPPPPPPPPP\n",
      "uuuuuuuuuu\n",
      "nnnnnnnnnn\n",
      "eeeeeeeeee\n"
     ]
    }
   ],
   "source": [
    "for i in 'Pune':\n",
    "    print(i*10)"
   ]
  },
  {
   "cell_type": "code",
   "execution_count": 24,
   "id": "24c57712-ec2e-491c-9c5a-9ec0e151c5fd",
   "metadata": {},
   "outputs": [
    {
     "name": "stdout",
     "output_type": "stream",
     "text": [
      "0\n",
      "1\n",
      "4\n",
      "9\n",
      "16\n",
      "25\n",
      "36\n",
      "49\n",
      "64\n",
      "81\n"
     ]
    }
   ],
   "source": [
    "for x in range(10):\n",
    "    print(x*x)"
   ]
  },
  {
   "cell_type": "code",
   "execution_count": 25,
   "id": "aa74dd35-3c55-45f8-bdd8-c4b6e2a32430",
   "metadata": {},
   "outputs": [],
   "source": [
    "def square(num):\n",
    "    sq = num * num\n",
    "    return sq"
   ]
  },
  {
   "cell_type": "code",
   "execution_count": 28,
   "id": "71d2f848-7685-4786-bcdc-52d599209654",
   "metadata": {},
   "outputs": [
    {
     "name": "stdout",
     "output_type": "stream",
     "text": [
      "Square is: 36\n"
     ]
    }
   ],
   "source": [
    "print('Square is:',square(6))"
   ]
  },
  {
   "cell_type": "code",
   "execution_count": 29,
   "id": "4cfc3df5-0a9f-4baa-9660-fc9960eb75e3",
   "metadata": {},
   "outputs": [],
   "source": [
    "def square(num=10):\n",
    "    sq = num * num\n",
    "    return sq"
   ]
  },
  {
   "cell_type": "code",
   "execution_count": 30,
   "id": "72096940-4935-4260-aacd-5473958da1af",
   "metadata": {},
   "outputs": [
    {
     "data": {
      "text/plain": [
       "16"
      ]
     },
     "execution_count": 30,
     "metadata": {},
     "output_type": "execute_result"
    }
   ],
   "source": [
    "square(4)"
   ]
  },
  {
   "cell_type": "code",
   "execution_count": 31,
   "id": "47c2d398-de49-4bd0-87c6-d22707f6c77d",
   "metadata": {},
   "outputs": [
    {
     "data": {
      "text/plain": [
       "100"
      ]
     },
     "execution_count": 31,
     "metadata": {},
     "output_type": "execute_result"
    }
   ],
   "source": [
    "square()"
   ]
  },
  {
   "cell_type": "code",
   "execution_count": 32,
   "id": "aac3e5e9-d870-449d-8f86-17cb60d0e90c",
   "metadata": {},
   "outputs": [],
   "source": [
    "def calc(num):\n",
    "    sq = num * num\n",
    "    cu = num **3  # cu for cube of number\n",
    "    return sq, cu"
   ]
  },
  {
   "cell_type": "code",
   "execution_count": 34,
   "id": "9aa0f9ec-43f6-4655-a96e-81467800c19f",
   "metadata": {},
   "outputs": [
    {
     "data": {
      "text/plain": [
       "(9, 27)"
      ]
     },
     "execution_count": 34,
     "metadata": {},
     "output_type": "execute_result"
    }
   ],
   "source": [
    "calc(3)"
   ]
  },
  {
   "cell_type": "markdown",
   "id": "e0e9f73a-30d7-45e4-b33a-a8b3f3ae0759",
   "metadata": {},
   "source": [
    "##### Data Structures"
   ]
  },
  {
   "cell_type": "code",
   "execution_count": 35,
   "id": "8eda49a6-6560-44ec-b41f-3cb48957fe83",
   "metadata": {},
   "outputs": [],
   "source": [
    "num1 =[ 45,67,54,84,27,90]"
   ]
  },
  {
   "cell_type": "code",
   "execution_count": 36,
   "id": "1ad791dd-8c7a-449c-964c-51e6ee8f680c",
   "metadata": {},
   "outputs": [
    {
     "data": {
      "text/plain": [
       "list"
      ]
     },
     "execution_count": 36,
     "metadata": {},
     "output_type": "execute_result"
    }
   ],
   "source": [
    "type(num1)"
   ]
  },
  {
   "cell_type": "code",
   "execution_count": 37,
   "id": "05ffaf1f-8b02-4849-9344-ee853515fa3f",
   "metadata": {},
   "outputs": [
    {
     "data": {
      "text/plain": [
       "90"
      ]
     },
     "execution_count": 37,
     "metadata": {},
     "output_type": "execute_result"
    }
   ],
   "source": [
    "num1[5]"
   ]
  },
  {
   "cell_type": "code",
   "execution_count": 38,
   "id": "b480939d-237a-449a-82e3-31fcb77863b1",
   "metadata": {},
   "outputs": [],
   "source": [
    "num2 =( 45,67,54,84,27,90)"
   ]
  },
  {
   "cell_type": "code",
   "execution_count": 39,
   "id": "a799243c-48e7-4339-b45e-0baa94ab9fc2",
   "metadata": {},
   "outputs": [
    {
     "data": {
      "text/plain": [
       "tuple"
      ]
     },
     "execution_count": 39,
     "metadata": {},
     "output_type": "execute_result"
    }
   ],
   "source": [
    "type(num2)"
   ]
  },
  {
   "cell_type": "code",
   "execution_count": 40,
   "id": "2eaf3015-f32d-4501-bad5-8e855fbb8071",
   "metadata": {},
   "outputs": [],
   "source": [
    "num1[2] =56"
   ]
  },
  {
   "cell_type": "code",
   "execution_count": 41,
   "id": "22d1113e-6b00-48fc-ba67-a1228aec39aa",
   "metadata": {},
   "outputs": [
    {
     "ename": "TypeError",
     "evalue": "'tuple' object does not support item assignment",
     "output_type": "error",
     "traceback": [
      "\u001b[1;31m---------------------------------------------------------------------------\u001b[0m",
      "\u001b[1;31mTypeError\u001b[0m                                 Traceback (most recent call last)",
      "Cell \u001b[1;32mIn[41], line 1\u001b[0m\n\u001b[1;32m----> 1\u001b[0m num2[\u001b[38;5;241m2\u001b[39m] \u001b[38;5;241m=\u001b[39m \u001b[38;5;241m56\u001b[39m\n",
      "\u001b[1;31mTypeError\u001b[0m: 'tuple' object does not support item assignment"
     ]
    }
   ],
   "source": [
    "num2[2] = 56"
   ]
  },
  {
   "cell_type": "code",
   "execution_count": 42,
   "id": "51030a06-03ad-4475-a73c-785eda09cceb",
   "metadata": {},
   "outputs": [
    {
     "data": {
      "text/plain": [
       "[45, 67, 56, 84, 27, 90]"
      ]
     },
     "execution_count": 42,
     "metadata": {},
     "output_type": "execute_result"
    }
   ],
   "source": [
    "num1"
   ]
  },
  {
   "cell_type": "code",
   "execution_count": 43,
   "id": "a560a919-2cdb-4b8a-9693-9206c4ca4e27",
   "metadata": {},
   "outputs": [
    {
     "data": {
      "text/plain": [
       "(45, 67, 54, 84, 27, 90)"
      ]
     },
     "execution_count": 43,
     "metadata": {},
     "output_type": "execute_result"
    }
   ],
   "source": [
    "num2"
   ]
  },
  {
   "cell_type": "code",
   "execution_count": 51,
   "id": "ac7eadf1-a876-4b5a-9ff8-04b8470e341f",
   "metadata": {},
   "outputs": [],
   "source": [
    "num3 ={ 45,45,54,84,27,90}"
   ]
  },
  {
   "cell_type": "code",
   "execution_count": 52,
   "id": "66c2fc80-4e1f-4f36-8c2f-397457a35140",
   "metadata": {},
   "outputs": [
    {
     "data": {
      "text/plain": [
       "set"
      ]
     },
     "execution_count": 52,
     "metadata": {},
     "output_type": "execute_result"
    }
   ],
   "source": [
    "type(num3)"
   ]
  },
  {
   "cell_type": "code",
   "execution_count": 53,
   "id": "41e7e7bb-4b48-4d97-a28f-b2db51db83c7",
   "metadata": {},
   "outputs": [
    {
     "data": {
      "text/plain": [
       "{27, 45, 54, 84, 90}"
      ]
     },
     "execution_count": 53,
     "metadata": {},
     "output_type": "execute_result"
    }
   ],
   "source": [
    "num3"
   ]
  },
  {
   "cell_type": "code",
   "execution_count": 54,
   "id": "d4bb35fd-feef-43c7-9988-e493788b295a",
   "metadata": {},
   "outputs": [],
   "source": [
    "num4 ={ 2:45,4:45,5:54,12:84,16:27,'x':90}"
   ]
  },
  {
   "cell_type": "code",
   "execution_count": 55,
   "id": "200c75f7-72c3-449f-9ac4-0a7fb609c8c6",
   "metadata": {},
   "outputs": [
    {
     "data": {
      "text/plain": [
       "dict"
      ]
     },
     "execution_count": 55,
     "metadata": {},
     "output_type": "execute_result"
    }
   ],
   "source": [
    "type(num4)"
   ]
  },
  {
   "cell_type": "code",
   "execution_count": 57,
   "id": "df899c4c-2306-46d7-bbb5-8738ca260332",
   "metadata": {},
   "outputs": [
    {
     "data": {
      "text/plain": [
       "27"
      ]
     },
     "execution_count": 57,
     "metadata": {},
     "output_type": "execute_result"
    }
   ],
   "source": [
    "num4[16]"
   ]
  },
  {
   "cell_type": "code",
   "execution_count": 58,
   "id": "cc17341c-b691-46a8-b2af-0ca9465d9b9d",
   "metadata": {},
   "outputs": [
    {
     "data": {
      "text/plain": [
       "90"
      ]
     },
     "execution_count": 58,
     "metadata": {},
     "output_type": "execute_result"
    }
   ],
   "source": [
    "num4['x']"
   ]
  },
  {
   "cell_type": "markdown",
   "id": "5eddfa05-42a7-449e-a791-ff69af3cae48",
   "metadata": {},
   "source": [
    "##### Class"
   ]
  },
  {
   "cell_type": "code",
   "execution_count": 59,
   "id": "46a698ac-ed89-4810-a85e-82888ed19af0",
   "metadata": {},
   "outputs": [],
   "source": [
    "num1.reverse()"
   ]
  },
  {
   "cell_type": "code",
   "execution_count": 60,
   "id": "de83911b-fb52-4a77-8a09-be8de1f4ae99",
   "metadata": {},
   "outputs": [
    {
     "data": {
      "text/plain": [
       "[90, 27, 84, 56, 67, 45]"
      ]
     },
     "execution_count": 60,
     "metadata": {},
     "output_type": "execute_result"
    }
   ],
   "source": [
    "num1"
   ]
  },
  {
   "cell_type": "code",
   "execution_count": 66,
   "id": "4adfd2f4-2f3a-412e-a12d-e934c46930d3",
   "metadata": {},
   "outputs": [
    {
     "data": {
      "text/plain": [
       "1"
      ]
     },
     "execution_count": 66,
     "metadata": {},
     "output_type": "execute_result"
    }
   ],
   "source": [
    "num2.count(45)"
   ]
  },
  {
   "cell_type": "code",
   "execution_count": 63,
   "id": "e4f4352a-189f-4d10-8ab2-3c964e81db01",
   "metadata": {},
   "outputs": [],
   "source": [
    "num3.add(18)"
   ]
  },
  {
   "cell_type": "code",
   "execution_count": 64,
   "id": "f0abedb5-650b-427e-a9c9-8ade37501fd9",
   "metadata": {},
   "outputs": [
    {
     "data": {
      "text/plain": [
       "{18, 27, 45, 54, 84, 90}"
      ]
     },
     "execution_count": 64,
     "metadata": {},
     "output_type": "execute_result"
    }
   ],
   "source": [
    "num3"
   ]
  },
  {
   "cell_type": "code",
   "execution_count": 68,
   "id": "24735d5c-081c-4507-9529-5d0ec323b265",
   "metadata": {},
   "outputs": [
    {
     "data": {
      "text/plain": [
       "dict_keys([2, 4, 5, 12, 16, 'x'])"
      ]
     },
     "execution_count": 68,
     "metadata": {},
     "output_type": "execute_result"
    }
   ],
   "source": [
    "num4.keys()"
   ]
  },
  {
   "cell_type": "code",
   "execution_count": 69,
   "id": "6f421972-c133-4919-879f-76c71e9bce17",
   "metadata": {},
   "outputs": [],
   "source": [
    "name ='anil'"
   ]
  },
  {
   "cell_type": "code",
   "execution_count": 70,
   "id": "55940d2e-286f-4463-9f89-528cfdd0e7b0",
   "metadata": {},
   "outputs": [
    {
     "data": {
      "text/plain": [
       "'ANIL'"
      ]
     },
     "execution_count": 70,
     "metadata": {},
     "output_type": "execute_result"
    }
   ],
   "source": [
    "name.upper()"
   ]
  },
  {
   "cell_type": "code",
   "execution_count": 75,
   "id": "b67f4d26-8af8-4dfd-bca2-936824a6412b",
   "metadata": {},
   "outputs": [],
   "source": [
    "class Person:\n",
    "    def __init__(self,n,a):\n",
    "        self.name = n\n",
    "        self.age = a\n",
    "    def show(self):  # show is a function\n",
    "        print('Values are:')  \n",
    "        print(self.name, self.age)"
   ]
  },
  {
   "cell_type": "code",
   "execution_count": 76,
   "id": "3a9679e2-c872-49d5-946d-f3877123ddce",
   "metadata": {},
   "outputs": [],
   "source": [
    "p1 = Person('ajay',34)"
   ]
  },
  {
   "cell_type": "code",
   "execution_count": 77,
   "id": "895a8c72-3d94-4aa4-9f9d-92442ac2b721",
   "metadata": {},
   "outputs": [
    {
     "data": {
      "text/plain": [
       "'ajay'"
      ]
     },
     "execution_count": 77,
     "metadata": {},
     "output_type": "execute_result"
    }
   ],
   "source": [
    "p1.name"
   ]
  },
  {
   "cell_type": "code",
   "execution_count": 78,
   "id": "fe9f9fbc-a744-4fae-afd2-4d9cdecbaecc",
   "metadata": {},
   "outputs": [
    {
     "data": {
      "text/plain": [
       "34"
      ]
     },
     "execution_count": 78,
     "metadata": {},
     "output_type": "execute_result"
    }
   ],
   "source": [
    "p1.age"
   ]
  },
  {
   "cell_type": "code",
   "execution_count": 79,
   "id": "a3eb624c-6a89-4519-a995-d48edd806c83",
   "metadata": {},
   "outputs": [
    {
     "name": "stdout",
     "output_type": "stream",
     "text": [
      "Values are:\n",
      "ajay 34\n"
     ]
    }
   ],
   "source": [
    "p1.show()"
   ]
  },
  {
   "cell_type": "code",
   "execution_count": 81,
   "id": "aaf9fc00-d112-4b21-a1fb-aa9d5929774d",
   "metadata": {},
   "outputs": [
    {
     "name": "stdout",
     "output_type": "stream",
     "text": [
      "Values are:\n",
      "shivam 25\n"
     ]
    }
   ],
   "source": [
    "p2 = Person('shivam',25)\n",
    "p2.show()"
   ]
  },
  {
   "cell_type": "code",
   "execution_count": 82,
   "id": "31d0bcbe-df7b-4138-8baa-dd58cf37b0b8",
   "metadata": {},
   "outputs": [
    {
     "name": "stdout",
     "output_type": "stream",
     "text": [
      "Values are:\n",
      "rahul 40\n"
     ]
    }
   ],
   "source": [
    "p3 = Person('rahul',40)\n",
    "p3.show()"
   ]
  },
  {
   "cell_type": "code",
   "execution_count": 83,
   "id": "9687b7a4-8299-4da6-8936-27a55dce3e04",
   "metadata": {},
   "outputs": [
    {
     "name": "stdout",
     "output_type": "stream",
     "text": [
      "Values are:\n",
      "ajay 34\n"
     ]
    }
   ],
   "source": [
    "p1.show()"
   ]
  },
  {
   "cell_type": "markdown",
   "id": "d9b2541a-8f2f-4108-9ff6-f8dd75a233f0",
   "metadata": {},
   "source": [
    "##### Using the libraries"
   ]
  },
  {
   "cell_type": "code",
   "execution_count": 84,
   "id": "0d1b3f5b-8f5f-4228-b686-421ad19049a7",
   "metadata": {},
   "outputs": [],
   "source": [
    "import math"
   ]
  },
  {
   "cell_type": "code",
   "execution_count": 85,
   "id": "35021f37-5087-4297-a65d-6eb6e791b0fc",
   "metadata": {},
   "outputs": [
    {
     "name": "stdout",
     "output_type": "stream",
     "text": [
      "Help on built-in module math:\n",
      "\n",
      "NAME\n",
      "    math\n",
      "\n",
      "DESCRIPTION\n",
      "    This module provides access to the mathematical functions\n",
      "    defined by the C standard.\n",
      "\n",
      "FUNCTIONS\n",
      "    acos(x, /)\n",
      "        Return the arc cosine (measured in radians) of x.\n",
      "        \n",
      "        The result is between 0 and pi.\n",
      "    \n",
      "    acosh(x, /)\n",
      "        Return the inverse hyperbolic cosine of x.\n",
      "    \n",
      "    asin(x, /)\n",
      "        Return the arc sine (measured in radians) of x.\n",
      "        \n",
      "        The result is between -pi/2 and pi/2.\n",
      "    \n",
      "    asinh(x, /)\n",
      "        Return the inverse hyperbolic sine of x.\n",
      "    \n",
      "    atan(x, /)\n",
      "        Return the arc tangent (measured in radians) of x.\n",
      "        \n",
      "        The result is between -pi/2 and pi/2.\n",
      "    \n",
      "    atan2(y, x, /)\n",
      "        Return the arc tangent (measured in radians) of y/x.\n",
      "        \n",
      "        Unlike atan(y/x), the signs of both x and y are considered.\n",
      "    \n",
      "    atanh(x, /)\n",
      "        Return the inverse hyperbolic tangent of x.\n",
      "    \n",
      "    cbrt(x, /)\n",
      "        Return the cube root of x.\n",
      "    \n",
      "    ceil(x, /)\n",
      "        Return the ceiling of x as an Integral.\n",
      "        \n",
      "        This is the smallest integer >= x.\n",
      "    \n",
      "    comb(n, k, /)\n",
      "        Number of ways to choose k items from n items without repetition and without order.\n",
      "        \n",
      "        Evaluates to n! / (k! * (n - k)!) when k <= n and evaluates\n",
      "        to zero when k > n.\n",
      "        \n",
      "        Also called the binomial coefficient because it is equivalent\n",
      "        to the coefficient of k-th term in polynomial expansion of the\n",
      "        expression (1 + x)**n.\n",
      "        \n",
      "        Raises TypeError if either of the arguments are not integers.\n",
      "        Raises ValueError if either of the arguments are negative.\n",
      "    \n",
      "    copysign(x, y, /)\n",
      "        Return a float with the magnitude (absolute value) of x but the sign of y.\n",
      "        \n",
      "        On platforms that support signed zeros, copysign(1.0, -0.0)\n",
      "        returns -1.0.\n",
      "    \n",
      "    cos(x, /)\n",
      "        Return the cosine of x (measured in radians).\n",
      "    \n",
      "    cosh(x, /)\n",
      "        Return the hyperbolic cosine of x.\n",
      "    \n",
      "    degrees(x, /)\n",
      "        Convert angle x from radians to degrees.\n",
      "    \n",
      "    dist(p, q, /)\n",
      "        Return the Euclidean distance between two points p and q.\n",
      "        \n",
      "        The points should be specified as sequences (or iterables) of\n",
      "        coordinates.  Both inputs must have the same dimension.\n",
      "        \n",
      "        Roughly equivalent to:\n",
      "            sqrt(sum((px - qx) ** 2.0 for px, qx in zip(p, q)))\n",
      "    \n",
      "    erf(x, /)\n",
      "        Error function at x.\n",
      "    \n",
      "    erfc(x, /)\n",
      "        Complementary error function at x.\n",
      "    \n",
      "    exp(x, /)\n",
      "        Return e raised to the power of x.\n",
      "    \n",
      "    exp2(x, /)\n",
      "        Return 2 raised to the power of x.\n",
      "    \n",
      "    expm1(x, /)\n",
      "        Return exp(x)-1.\n",
      "        \n",
      "        This function avoids the loss of precision involved in the direct evaluation of exp(x)-1 for small x.\n",
      "    \n",
      "    fabs(x, /)\n",
      "        Return the absolute value of the float x.\n",
      "    \n",
      "    factorial(n, /)\n",
      "        Find n!.\n",
      "        \n",
      "        Raise a ValueError if x is negative or non-integral.\n",
      "    \n",
      "    floor(x, /)\n",
      "        Return the floor of x as an Integral.\n",
      "        \n",
      "        This is the largest integer <= x.\n",
      "    \n",
      "    fmod(x, y, /)\n",
      "        Return fmod(x, y), according to platform C.\n",
      "        \n",
      "        x % y may differ.\n",
      "    \n",
      "    frexp(x, /)\n",
      "        Return the mantissa and exponent of x, as pair (m, e).\n",
      "        \n",
      "        m is a float and e is an int, such that x = m * 2.**e.\n",
      "        If x is 0, m and e are both 0.  Else 0.5 <= abs(m) < 1.0.\n",
      "    \n",
      "    fsum(seq, /)\n",
      "        Return an accurate floating point sum of values in the iterable seq.\n",
      "        \n",
      "        Assumes IEEE-754 floating point arithmetic.\n",
      "    \n",
      "    gamma(x, /)\n",
      "        Gamma function at x.\n",
      "    \n",
      "    gcd(*integers)\n",
      "        Greatest Common Divisor.\n",
      "    \n",
      "    hypot(...)\n",
      "        hypot(*coordinates) -> value\n",
      "        \n",
      "        Multidimensional Euclidean distance from the origin to a point.\n",
      "        \n",
      "        Roughly equivalent to:\n",
      "            sqrt(sum(x**2 for x in coordinates))\n",
      "        \n",
      "        For a two dimensional point (x, y), gives the hypotenuse\n",
      "        using the Pythagorean theorem:  sqrt(x*x + y*y).\n",
      "        \n",
      "        For example, the hypotenuse of a 3/4/5 right triangle is:\n",
      "        \n",
      "            >>> hypot(3.0, 4.0)\n",
      "            5.0\n",
      "    \n",
      "    isclose(a, b, *, rel_tol=1e-09, abs_tol=0.0)\n",
      "        Determine whether two floating point numbers are close in value.\n",
      "        \n",
      "          rel_tol\n",
      "            maximum difference for being considered \"close\", relative to the\n",
      "            magnitude of the input values\n",
      "          abs_tol\n",
      "            maximum difference for being considered \"close\", regardless of the\n",
      "            magnitude of the input values\n",
      "        \n",
      "        Return True if a is close in value to b, and False otherwise.\n",
      "        \n",
      "        For the values to be considered close, the difference between them\n",
      "        must be smaller than at least one of the tolerances.\n",
      "        \n",
      "        -inf, inf and NaN behave similarly to the IEEE 754 Standard.  That\n",
      "        is, NaN is not close to anything, even itself.  inf and -inf are\n",
      "        only close to themselves.\n",
      "    \n",
      "    isfinite(x, /)\n",
      "        Return True if x is neither an infinity nor a NaN, and False otherwise.\n",
      "    \n",
      "    isinf(x, /)\n",
      "        Return True if x is a positive or negative infinity, and False otherwise.\n",
      "    \n",
      "    isnan(x, /)\n",
      "        Return True if x is a NaN (not a number), and False otherwise.\n",
      "    \n",
      "    isqrt(n, /)\n",
      "        Return the integer part of the square root of the input.\n",
      "    \n",
      "    lcm(*integers)\n",
      "        Least Common Multiple.\n",
      "    \n",
      "    ldexp(x, i, /)\n",
      "        Return x * (2**i).\n",
      "        \n",
      "        This is essentially the inverse of frexp().\n",
      "    \n",
      "    lgamma(x, /)\n",
      "        Natural logarithm of absolute value of Gamma function at x.\n",
      "    \n",
      "    log(...)\n",
      "        log(x, [base=math.e])\n",
      "        Return the logarithm of x to the given base.\n",
      "        \n",
      "        If the base not specified, returns the natural logarithm (base e) of x.\n",
      "    \n",
      "    log10(x, /)\n",
      "        Return the base 10 logarithm of x.\n",
      "    \n",
      "    log1p(x, /)\n",
      "        Return the natural logarithm of 1+x (base e).\n",
      "        \n",
      "        The result is computed in a way which is accurate for x near zero.\n",
      "    \n",
      "    log2(x, /)\n",
      "        Return the base 2 logarithm of x.\n",
      "    \n",
      "    modf(x, /)\n",
      "        Return the fractional and integer parts of x.\n",
      "        \n",
      "        Both results carry the sign of x and are floats.\n",
      "    \n",
      "    nextafter(x, y, /)\n",
      "        Return the next floating-point value after x towards y.\n",
      "    \n",
      "    perm(n, k=None, /)\n",
      "        Number of ways to choose k items from n items without repetition and with order.\n",
      "        \n",
      "        Evaluates to n! / (n - k)! when k <= n and evaluates\n",
      "        to zero when k > n.\n",
      "        \n",
      "        If k is not specified or is None, then k defaults to n\n",
      "        and the function returns n!.\n",
      "        \n",
      "        Raises TypeError if either of the arguments are not integers.\n",
      "        Raises ValueError if either of the arguments are negative.\n",
      "    \n",
      "    pow(x, y, /)\n",
      "        Return x**y (x to the power of y).\n",
      "    \n",
      "    prod(iterable, /, *, start=1)\n",
      "        Calculate the product of all the elements in the input iterable.\n",
      "        \n",
      "        The default start value for the product is 1.\n",
      "        \n",
      "        When the iterable is empty, return the start value.  This function is\n",
      "        intended specifically for use with numeric values and may reject\n",
      "        non-numeric types.\n",
      "    \n",
      "    radians(x, /)\n",
      "        Convert angle x from degrees to radians.\n",
      "    \n",
      "    remainder(x, y, /)\n",
      "        Difference between x and the closest integer multiple of y.\n",
      "        \n",
      "        Return x - n*y where n*y is the closest integer multiple of y.\n",
      "        In the case where x is exactly halfway between two multiples of\n",
      "        y, the nearest even value of n is used. The result is always exact.\n",
      "    \n",
      "    sin(x, /)\n",
      "        Return the sine of x (measured in radians).\n",
      "    \n",
      "    sinh(x, /)\n",
      "        Return the hyperbolic sine of x.\n",
      "    \n",
      "    sqrt(x, /)\n",
      "        Return the square root of x.\n",
      "    \n",
      "    tan(x, /)\n",
      "        Return the tangent of x (measured in radians).\n",
      "    \n",
      "    tanh(x, /)\n",
      "        Return the hyperbolic tangent of x.\n",
      "    \n",
      "    trunc(x, /)\n",
      "        Truncates the Real x to the nearest Integral toward 0.\n",
      "        \n",
      "        Uses the __trunc__ magic method.\n",
      "    \n",
      "    ulp(x, /)\n",
      "        Return the value of the least significant bit of the float x.\n",
      "\n",
      "DATA\n",
      "    e = 2.718281828459045\n",
      "    inf = inf\n",
      "    nan = nan\n",
      "    pi = 3.141592653589793\n",
      "    tau = 6.283185307179586\n",
      "\n",
      "FILE\n",
      "    (built-in)\n",
      "\n",
      "\n"
     ]
    }
   ],
   "source": [
    "help(math)"
   ]
  },
  {
   "cell_type": "code",
   "execution_count": 86,
   "id": "d46d05f5-28b5-4d64-af6e-69336058cf23",
   "metadata": {},
   "outputs": [
    {
     "data": {
      "text/plain": [
       "4.795831523312719"
      ]
     },
     "execution_count": 86,
     "metadata": {},
     "output_type": "execute_result"
    }
   ],
   "source": [
    "math. sqrt(23)"
   ]
  },
  {
   "cell_type": "code",
   "execution_count": 87,
   "id": "5fc653ea-914f-4cf9-9392-b7e4df63631b",
   "metadata": {},
   "outputs": [
    {
     "data": {
      "text/plain": [
       "2.4849066497880004"
      ]
     },
     "execution_count": 87,
     "metadata": {},
     "output_type": "execute_result"
    }
   ],
   "source": [
    "math.log(12)"
   ]
  },
  {
   "cell_type": "code",
   "execution_count": 88,
   "id": "18fffd7e-377d-41e8-adb6-0752d39b2f42",
   "metadata": {},
   "outputs": [
    {
     "data": {
      "text/plain": [
       "3.141592653589793"
      ]
     },
     "execution_count": 88,
     "metadata": {},
     "output_type": "execute_result"
    }
   ],
   "source": [
    "math.pi"
   ]
  },
  {
   "cell_type": "code",
   "execution_count": 90,
   "id": "b930ff40-055a-4bed-91b5-84ae168ddf13",
   "metadata": {},
   "outputs": [
    {
     "data": {
      "text/plain": [
       "24"
      ]
     },
     "execution_count": 90,
     "metadata": {},
     "output_type": "execute_result"
    }
   ],
   "source": [
    "math.factorial(4)"
   ]
  },
  {
   "cell_type": "code",
   "execution_count": 91,
   "id": "dc511685-c7c6-487f-b6fe-70dcfa81c4fa",
   "metadata": {},
   "outputs": [],
   "source": [
    "import math as m"
   ]
  },
  {
   "cell_type": "code",
   "execution_count": 92,
   "id": "661340d8-a1e3-40b9-81d0-8797845c700f",
   "metadata": {},
   "outputs": [
    {
     "data": {
      "text/plain": [
       "3.141592653589793"
      ]
     },
     "execution_count": 92,
     "metadata": {},
     "output_type": "execute_result"
    }
   ],
   "source": [
    "m.pi"
   ]
  },
  {
   "cell_type": "code",
   "execution_count": 94,
   "id": "58b20d94-3c3f-4624-ae0b-7e910f4b52f3",
   "metadata": {},
   "outputs": [
    {
     "data": {
      "text/plain": [
       "2.4849066497880004"
      ]
     },
     "execution_count": 94,
     "metadata": {},
     "output_type": "execute_result"
    }
   ],
   "source": [
    "m.log(12)"
   ]
  },
  {
   "cell_type": "code",
   "execution_count": 95,
   "id": "d39e808e-1679-4c42-bb88-faab8e0b2999",
   "metadata": {},
   "outputs": [
    {
     "data": {
      "text/plain": [
       "2.718281828459045"
      ]
     },
     "execution_count": 95,
     "metadata": {},
     "output_type": "execute_result"
    }
   ],
   "source": [
    "math.e"
   ]
  },
  {
   "cell_type": "code",
   "execution_count": 96,
   "id": "aedfda86-e301-4aa8-bfe8-33c7fe12bb12",
   "metadata": {},
   "outputs": [],
   "source": [
    "# Selective Import"
   ]
  },
  {
   "cell_type": "code",
   "execution_count": 97,
   "id": "51967c76-4b0c-4ef3-adbc-04a59043899b",
   "metadata": {},
   "outputs": [],
   "source": [
    "from math import sqrt,pi"
   ]
  },
  {
   "cell_type": "code",
   "execution_count": 98,
   "id": "3a289bbf-3263-47f5-a871-7ec711e37ed4",
   "metadata": {},
   "outputs": [
    {
     "data": {
      "text/plain": [
       "3.4641016151377544"
      ]
     },
     "execution_count": 98,
     "metadata": {},
     "output_type": "execute_result"
    }
   ],
   "source": [
    "sqrt(12)"
   ]
  },
  {
   "cell_type": "code",
   "execution_count": 99,
   "id": "cb5298f9-8e89-482c-a5d2-f0af960a8eab",
   "metadata": {},
   "outputs": [
    {
     "data": {
      "text/plain": [
       "3.141592653589793"
      ]
     },
     "execution_count": 99,
     "metadata": {},
     "output_type": "execute_result"
    }
   ],
   "source": [
    "pi"
   ]
  },
  {
   "cell_type": "code",
   "execution_count": 101,
   "id": "93108dc0-8b03-4643-9799-5973acc19727",
   "metadata": {},
   "outputs": [
    {
     "data": {
      "text/plain": [
       "3.141592653589793"
      ]
     },
     "execution_count": 101,
     "metadata": {},
     "output_type": "execute_result"
    }
   ],
   "source": [
    "pi"
   ]
  },
  {
   "cell_type": "code",
   "execution_count": null,
   "id": "22feeaa3-78cc-4a7c-837b-226382c36bc4",
   "metadata": {},
   "outputs": [],
   "source": []
  },
  {
   "cell_type": "code",
   "execution_count": null,
   "id": "3cb36048-64ac-43e9-903f-a4fb07cdc25f",
   "metadata": {},
   "outputs": [],
   "source": []
  },
  {
   "cell_type": "code",
   "execution_count": null,
   "id": "7ac183db-8517-4866-a78a-5d311922f341",
   "metadata": {},
   "outputs": [],
   "source": []
  },
  {
   "cell_type": "code",
   "execution_count": null,
   "id": "4c862aad-1d32-4fe8-9176-f510aab441ed",
   "metadata": {},
   "outputs": [],
   "source": []
  },
  {
   "cell_type": "code",
   "execution_count": null,
   "id": "56e77a05-cb81-4645-9437-bb88d7b6ce27",
   "metadata": {},
   "outputs": [],
   "source": []
  },
  {
   "cell_type": "code",
   "execution_count": null,
   "id": "728b0443-1f4f-4512-9f80-82f5eb850fa7",
   "metadata": {},
   "outputs": [],
   "source": []
  },
  {
   "cell_type": "code",
   "execution_count": null,
   "id": "b36e6b56-d64e-4041-a9ee-6307533c6107",
   "metadata": {},
   "outputs": [],
   "source": []
  },
  {
   "cell_type": "code",
   "execution_count": null,
   "id": "de74d764-bfe2-46df-96dc-f4a571363233",
   "metadata": {},
   "outputs": [],
   "source": []
  },
  {
   "cell_type": "code",
   "execution_count": null,
   "id": "94e99b52-231b-4c20-af68-77d21950dd0f",
   "metadata": {},
   "outputs": [],
   "source": []
  },
  {
   "cell_type": "code",
   "execution_count": null,
   "id": "77ee41c6-eab7-4d01-8504-0ef52d91bc33",
   "metadata": {},
   "outputs": [],
   "source": []
  }
 ],
 "metadata": {
  "kernelspec": {
   "display_name": "Python 3 (ipykernel)",
   "language": "python",
   "name": "python3"
  },
  "language_info": {
   "codemirror_mode": {
    "name": "ipython",
    "version": 3
   },
   "file_extension": ".py",
   "mimetype": "text/x-python",
   "name": "python",
   "nbconvert_exporter": "python",
   "pygments_lexer": "ipython3",
   "version": "3.11.7"
  }
 },
 "nbformat": 4,
 "nbformat_minor": 5
}
