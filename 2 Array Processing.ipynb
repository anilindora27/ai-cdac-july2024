{
 "cells": [
  {
   "cell_type": "code",
   "execution_count": 1,
   "id": "f43f350e-b001-4f20-84fe-97c870d9318d",
   "metadata": {},
   "outputs": [],
   "source": [
    "import numpy as np"
   ]
  },
  {
   "cell_type": "markdown",
   "id": "d675027a-f9d0-4f7c-941c-945622580137",
   "metadata": {},
   "source": [
    "##### Create the Array "
   ]
  },
  {
   "cell_type": "code",
   "execution_count": 2,
   "id": "3d248a32-ccb3-4bfc-9c48-1ff54d98f461",
   "metadata": {},
   "outputs": [],
   "source": [
    "x = np.array([56,12,35,48,71,11,28])"
   ]
  },
  {
   "cell_type": "code",
   "execution_count": 3,
   "id": "5ccad420-6728-4a5f-97a3-3491cce59f57",
   "metadata": {},
   "outputs": [
    {
     "name": "stdout",
     "output_type": "stream",
     "text": [
      "[56 12 35 48 71 11 28]\n"
     ]
    }
   ],
   "source": [
    "print(x)"
   ]
  },
  {
   "cell_type": "code",
   "execution_count": 4,
   "id": "57908d9b-7c2b-42cf-8af6-8704ae076eb9",
   "metadata": {},
   "outputs": [
    {
     "data": {
      "text/plain": [
       "numpy.ndarray"
      ]
     },
     "execution_count": 4,
     "metadata": {},
     "output_type": "execute_result"
    }
   ],
   "source": [
    "type(x)"
   ]
  },
  {
   "cell_type": "code",
   "execution_count": 5,
   "id": "764d4346-9f99-4c56-9638-afe782da49eb",
   "metadata": {},
   "outputs": [
    {
     "data": {
      "text/plain": [
       "1"
      ]
     },
     "execution_count": 5,
     "metadata": {},
     "output_type": "execute_result"
    }
   ],
   "source": [
    "x.ndim"
   ]
  },
  {
   "cell_type": "code",
   "execution_count": 6,
   "id": "2964fd1e-0963-4acc-81f3-6dad9c75c9c0",
   "metadata": {},
   "outputs": [
    {
     "data": {
      "text/plain": [
       "array([56, 12, 35, 48, 71, 11, 28])"
      ]
     },
     "execution_count": 6,
     "metadata": {},
     "output_type": "execute_result"
    }
   ],
   "source": [
    "x"
   ]
  },
  {
   "cell_type": "code",
   "execution_count": 7,
   "id": "233ba26a-932c-4fa5-a965-9793e7afcc9f",
   "metadata": {},
   "outputs": [
    {
     "data": {
      "text/plain": [
       "dtype('int32')"
      ]
     },
     "execution_count": 7,
     "metadata": {},
     "output_type": "execute_result"
    }
   ],
   "source": [
    "x.dtype"
   ]
  },
  {
   "cell_type": "code",
   "execution_count": 8,
   "id": "7540bd4c-335b-45ae-be11-5ce9c5974828",
   "metadata": {},
   "outputs": [],
   "source": [
    "a = 350525005564646066046604641805048703"
   ]
  },
  {
   "cell_type": "code",
   "execution_count": 9,
   "id": "25e41e54-aaf7-49ac-aaba-69d649840892",
   "metadata": {},
   "outputs": [
    {
     "data": {
      "text/plain": [
       "350525005564646066046604641805048703"
      ]
     },
     "execution_count": 9,
     "metadata": {},
     "output_type": "execute_result"
    }
   ],
   "source": [
    "a"
   ]
  },
  {
   "cell_type": "code",
   "execution_count": 10,
   "id": "34a39519-129d-4e70-b9cd-ddca0772d36b",
   "metadata": {},
   "outputs": [],
   "source": [
    "a= 458**545"
   ]
  },
  {
   "cell_type": "code",
   "execution_count": 11,
   "id": "97108d51-e7ce-4c14-92a0-8c79c4c9f1f8",
   "metadata": {},
   "outputs": [
    {
     "data": {
      "text/plain": [
       "14848600135841581211557470151880942143025081419087213157763811144404923612780812487222638198979301284374896099702737118724143924986500265581293162186558396797634573771638053635324936306847469041249691038237519062337146240434419307426425372753267715560224746787161719571441011611293073009154360068943434212616294480431094478947370298581334750813911502346277051598942555018870475531311826968332066708733458121267273303732104278654911472230039789492327139829261852616381581391437529350759414062651409968758596446778502252373461098813568951421826825379488565279624133993313960537502015628980974454358970732330949045037284599723498866780855456987589126757458010542526120305719380367309023191925962626385386517603900080703676705770736666938329181362596873476638099888039798490675004467687427877429962393023701446284339664062194433229436758810102568322455430553173803355923376187820836447252795234624934268095634734804908431450277101076201833500937857728394713915773782991667703255725754678307179339045697938055669960355762374296103325821146099769725404584183134387765746155200566540203973220768035028319576576035900430860222672988032272364877233832448791174470703614543648159416386671212420697323171633889968704060592366904066687840640549903074636484572995504200365915128657852790866297939253270781892542213963638524531818984099703222410019221922977971313935706631384579898638788548515191985217190398264415436375959262361350877212686917819779085945817530368"
      ]
     },
     "execution_count": 11,
     "metadata": {},
     "output_type": "execute_result"
    }
   ],
   "source": [
    "a"
   ]
  },
  {
   "cell_type": "code",
   "execution_count": 12,
   "id": "35d2c463-1695-454b-9772-1eb3cf0a6e0e",
   "metadata": {},
   "outputs": [],
   "source": [
    "# there is no limit for external variable integers like million of integers in int\n",
    "# inside array there is limit  like upto 64 bit or 32 bit"
   ]
  },
  {
   "cell_type": "code",
   "execution_count": 15,
   "id": "2cfd2c96-771d-4529-b224-a73ac2b01953",
   "metadata": {},
   "outputs": [],
   "source": [
    "x = np.array([56,12,35,48,71,11,28], dtype=np.int8)"
   ]
  },
  {
   "cell_type": "code",
   "execution_count": 16,
   "id": "61481710-cb71-44fe-9c0a-735f6dd921c4",
   "metadata": {},
   "outputs": [
    {
     "data": {
      "text/plain": [
       "array([56, 12, 35, 48, 71, 11, 28], dtype=int8)"
      ]
     },
     "execution_count": 16,
     "metadata": {},
     "output_type": "execute_result"
    }
   ],
   "source": [
    "x"
   ]
  },
  {
   "cell_type": "code",
   "execution_count": 17,
   "id": "42a8d5e8-f070-4426-b03a-cbe9a690be14",
   "metadata": {},
   "outputs": [
    {
     "name": "stderr",
     "output_type": "stream",
     "text": [
      "C:\\Users\\rajesh\\AppData\\Local\\Temp\\ipykernel_4288\\2267913759.py:1: DeprecationWarning: NumPy will stop allowing conversion of out-of-bound Python integers to integer arrays.  The conversion of 200 to int8 will fail in the future.\n",
      "For the old behavior, usually:\n",
      "    np.array(value).astype(dtype)\n",
      "will give the desired result (the cast overflows).\n",
      "  x[0]=200\n"
     ]
    }
   ],
   "source": [
    "x[0]=200"
   ]
  },
  {
   "cell_type": "code",
   "execution_count": 18,
   "id": "0a1df639-0ecb-4016-8ce6-63aa71a859b2",
   "metadata": {},
   "outputs": [],
   "source": [
    "x = np.array([56,12,35,48,71,11,28], dtype=np.uint8)"
   ]
  },
  {
   "cell_type": "code",
   "execution_count": 22,
   "id": "224dc01b-2872-4add-9558-9c938319598c",
   "metadata": {},
   "outputs": [],
   "source": [
    "x[0] = 255"
   ]
  },
  {
   "cell_type": "code",
   "execution_count": 23,
   "id": "9ec7571f-9282-42f4-98a4-29223fc10b2e",
   "metadata": {},
   "outputs": [
    {
     "data": {
      "text/plain": [
       "array([255,  12,  35,  48,  71,  11,  28], dtype=uint8)"
      ]
     },
     "execution_count": 23,
     "metadata": {},
     "output_type": "execute_result"
    }
   ],
   "source": [
    "x"
   ]
  },
  {
   "cell_type": "code",
   "execution_count": 24,
   "id": "10e2d373-f234-4dbd-899e-595d927f428e",
   "metadata": {},
   "outputs": [
    {
     "data": {
      "text/plain": [
       "7"
      ]
     },
     "execution_count": 24,
     "metadata": {},
     "output_type": "execute_result"
    }
   ],
   "source": [
    "x.size"
   ]
  },
  {
   "cell_type": "code",
   "execution_count": 25,
   "id": "e39c8582-ad31-4024-bb42-e90397c8ac84",
   "metadata": {},
   "outputs": [
    {
     "data": {
      "text/plain": [
       "(7,)"
      ]
     },
     "execution_count": 25,
     "metadata": {},
     "output_type": "execute_result"
    }
   ],
   "source": [
    "x.shape"
   ]
  },
  {
   "cell_type": "code",
   "execution_count": 26,
   "id": "dfbd6076-07ca-4126-944b-a8ab7c0a41ff",
   "metadata": {},
   "outputs": [
    {
     "data": {
      "text/plain": [
       "11"
      ]
     },
     "execution_count": 26,
     "metadata": {},
     "output_type": "execute_result"
    }
   ],
   "source": [
    "x.min()"
   ]
  },
  {
   "cell_type": "code",
   "execution_count": 27,
   "id": "98a45730-ea8a-498b-b58d-ead1e630e4bd",
   "metadata": {},
   "outputs": [
    {
     "data": {
      "text/plain": [
       "255"
      ]
     },
     "execution_count": 27,
     "metadata": {},
     "output_type": "execute_result"
    }
   ],
   "source": [
    "x.max()"
   ]
  },
  {
   "cell_type": "code",
   "execution_count": 28,
   "id": "b9dd5c6f-6202-4110-b554-48a7cd8a4f2f",
   "metadata": {},
   "outputs": [
    {
     "data": {
      "text/plain": [
       "79.65589259113096"
      ]
     },
     "execution_count": 28,
     "metadata": {},
     "output_type": "execute_result"
    }
   ],
   "source": [
    "x.std()"
   ]
  },
  {
   "cell_type": "code",
   "execution_count": 29,
   "id": "104ac567-8b56-46e7-9810-e7e77be526be",
   "metadata": {},
   "outputs": [
    {
     "data": {
      "text/plain": [
       "6345.061224489794"
      ]
     },
     "execution_count": 29,
     "metadata": {},
     "output_type": "execute_result"
    }
   ],
   "source": [
    "x.var()"
   ]
  },
  {
   "cell_type": "code",
   "execution_count": 30,
   "id": "71071154-cd52-4f43-a742-24297d590d62",
   "metadata": {},
   "outputs": [
    {
     "data": {
      "text/plain": [
       "460"
      ]
     },
     "execution_count": 30,
     "metadata": {},
     "output_type": "execute_result"
    }
   ],
   "source": [
    "x.sum()"
   ]
  },
  {
   "cell_type": "code",
   "execution_count": 31,
   "id": "ff3ea7f1-b74a-4cef-b6e5-8709548fb732",
   "metadata": {},
   "outputs": [],
   "source": [
    "x.sort()"
   ]
  },
  {
   "cell_type": "code",
   "execution_count": 32,
   "id": "817bc8d7-6a9d-4088-bd7a-a5bee3d7e660",
   "metadata": {},
   "outputs": [
    {
     "data": {
      "text/plain": [
       "array([ 11,  12,  28,  35,  48,  71, 255], dtype=uint8)"
      ]
     },
     "execution_count": 32,
     "metadata": {},
     "output_type": "execute_result"
    }
   ],
   "source": [
    "x"
   ]
  },
  {
   "cell_type": "code",
   "execution_count": 33,
   "id": "78ec1ea8-15e5-4727-be4c-79b90352d923",
   "metadata": {},
   "outputs": [],
   "source": [
    "y = np.array([67,89,45.34,69,11,35])"
   ]
  },
  {
   "cell_type": "code",
   "execution_count": 113,
   "id": "35fb3813-678d-48e9-bd79-8985992973b4",
   "metadata": {},
   "outputs": [
    {
     "ename": "TypeError",
     "evalue": "'numpy.dtypes.Float64DType' object is not callable",
     "output_type": "error",
     "traceback": [
      "\u001b[1;31m---------------------------------------------------------------------------\u001b[0m",
      "\u001b[1;31mTypeError\u001b[0m                                 Traceback (most recent call last)",
      "Cell \u001b[1;32mIn[113], line 1\u001b[0m\n\u001b[1;32m----> 1\u001b[0m y\u001b[38;5;241m.\u001b[39mdtype()\n",
      "\u001b[1;31mTypeError\u001b[0m: 'numpy.dtypes.Float64DType' object is not callable"
     ]
    }
   ],
   "source": [
    "y.dtype()"
   ]
  },
  {
   "cell_type": "code",
   "execution_count": 112,
   "id": "bc08cb48-7ac0-41b7-836b-47255e394bf3",
   "metadata": {},
   "outputs": [
    {
     "data": {
      "text/plain": [
       "array([[67.  , 89.  ],\n",
       "       [45.34, 69.  ],\n",
       "       [11.  ,  1.  ]])"
      ]
     },
     "execution_count": 112,
     "metadata": {},
     "output_type": "execute_result"
    }
   ],
   "source": [
    "y.reshape(3,2)"
   ]
  },
  {
   "cell_type": "code",
   "execution_count": 35,
   "id": "bc808e7f-de1f-4c95-9036-e9805bd3b93d",
   "metadata": {},
   "outputs": [
    {
     "data": {
      "text/plain": [
       "array([67.  , 89.  , 45.34, 69.  , 11.  , 35.  ])"
      ]
     },
     "execution_count": 35,
     "metadata": {},
     "output_type": "execute_result"
    }
   ],
   "source": [
    "y"
   ]
  },
  {
   "cell_type": "code",
   "execution_count": 38,
   "id": "dc92eecb-f788-4c3e-8014-2ef467577c39",
   "metadata": {},
   "outputs": [],
   "source": [
    "y = np.array([67,89,45.34,69,11,35], dtype =np.i)"
   ]
  },
  {
   "cell_type": "code",
   "execution_count": 42,
   "id": "3b121351-a8e3-433d-bfa3-66463020ec29",
   "metadata": {},
   "outputs": [
    {
     "data": {
      "text/plain": [
       "dtype('float64')"
      ]
     },
     "execution_count": 42,
     "metadata": {},
     "output_type": "execute_result"
    }
   ],
   "source": [
    "y.dtype"
   ]
  },
  {
   "cell_type": "code",
   "execution_count": 47,
   "id": "599aeb89-26b4-427b-8de1-a23795678df6",
   "metadata": {},
   "outputs": [],
   "source": [
    "z = np.array([67,89,45.34,'string',11, True])"
   ]
  },
  {
   "cell_type": "code",
   "execution_count": 48,
   "id": "a353bfc3-f9d9-47e0-bd50-b18acb7b9cf6",
   "metadata": {},
   "outputs": [
    {
     "data": {
      "text/plain": [
       "array(['67', '89', '45.34', 'string', '11', 'True'], dtype='<U32')"
      ]
     },
     "execution_count": 48,
     "metadata": {},
     "output_type": "execute_result"
    }
   ],
   "source": [
    "z"
   ]
  },
  {
   "cell_type": "code",
   "execution_count": 49,
   "id": "edb5684f-b5fb-4393-bf71-514bbfe31327",
   "metadata": {},
   "outputs": [
    {
     "data": {
      "text/plain": [
       "dtype('<U32')"
      ]
     },
     "execution_count": 49,
     "metadata": {},
     "output_type": "execute_result"
    }
   ],
   "source": [
    "z.dtype"
   ]
  },
  {
   "cell_type": "code",
   "execution_count": 53,
   "id": "39f1890d-3aca-49ef-a01f-c735be186e3b",
   "metadata": {},
   "outputs": [],
   "source": [
    "z = np.zeros(10, dtype = np.int16)"
   ]
  },
  {
   "cell_type": "code",
   "execution_count": 54,
   "id": "b88d9445-943a-40a6-96ba-8ee40ace0fd4",
   "metadata": {},
   "outputs": [
    {
     "data": {
      "text/plain": [
       "array([0, 0, 0, 0, 0, 0, 0, 0, 0, 0], dtype=int16)"
      ]
     },
     "execution_count": 54,
     "metadata": {},
     "output_type": "execute_result"
    }
   ],
   "source": [
    "z"
   ]
  },
  {
   "cell_type": "code",
   "execution_count": 58,
   "id": "28b6fe75-54ef-4a1e-a8ba-2339d83305d6",
   "metadata": {},
   "outputs": [
    {
     "ename": "SyntaxError",
     "evalue": "cannot assign to literal here. Maybe you meant '==' instead of '='? (4210908515.py, line 1)",
     "output_type": "error",
     "traceback": [
      "\u001b[1;36m  Cell \u001b[1;32mIn[58], line 1\u001b[1;36m\u001b[0m\n\u001b[1;33m    0 = np.ones(10, dtype = np.int16)\u001b[0m\n\u001b[1;37m    ^\u001b[0m\n\u001b[1;31mSyntaxError\u001b[0m\u001b[1;31m:\u001b[0m cannot assign to literal here. Maybe you meant '==' instead of '='?\n"
     ]
    }
   ],
   "source": [
    "0 = np.ones(10, dtype = np.int16)"
   ]
  },
  {
   "cell_type": "code",
   "execution_count": 60,
   "id": "6266b803-ccfc-4720-8a9f-1258b0c7d43e",
   "metadata": {},
   "outputs": [
    {
     "data": {
      "text/plain": [
       "array([0, 1, 2, 3, 4, 5, 6, 7, 8, 9])"
      ]
     },
     "execution_count": 60,
     "metadata": {},
     "output_type": "execute_result"
    }
   ],
   "source": [
    "np.arange(10)"
   ]
  },
  {
   "cell_type": "code",
   "execution_count": 61,
   "id": "9e73484b-6828-4823-9924-3e31e10b03fb",
   "metadata": {},
   "outputs": [
    {
     "data": {
      "text/plain": [
       "array([4, 5, 6, 7, 8, 9])"
      ]
     },
     "execution_count": 61,
     "metadata": {},
     "output_type": "execute_result"
    }
   ],
   "source": [
    "np.arange(4,10)"
   ]
  },
  {
   "cell_type": "code",
   "execution_count": 64,
   "id": "b3a0ebfa-66f3-4815-a05c-ac0910554988",
   "metadata": {},
   "outputs": [
    {
     "data": {
      "text/plain": [
       "array([ 2,  5,  8, 11, 14, 17])"
      ]
     },
     "execution_count": 64,
     "metadata": {},
     "output_type": "execute_result"
    }
   ],
   "source": [
    "np.arange(2,20,3)"
   ]
  },
  {
   "cell_type": "code",
   "execution_count": 66,
   "id": "b0219208-cd5b-4fb0-94fa-4e96dc94e7ba",
   "metadata": {},
   "outputs": [
    {
     "data": {
      "text/plain": [
       "array([20, 17, 14, 11,  8,  5,  2])"
      ]
     },
     "execution_count": 66,
     "metadata": {},
     "output_type": "execute_result"
    }
   ],
   "source": [
    "np.arange(20,1,-3)"
   ]
  },
  {
   "cell_type": "code",
   "execution_count": 65,
   "id": "02955b93-c462-4067-919e-f32da7e1c402",
   "metadata": {},
   "outputs": [
    {
     "data": {
      "text/plain": [
       "array([0.  , 0.33, 0.66, 0.99, 1.32, 1.65, 1.98, 2.31, 2.64, 2.97, 3.3 ,\n",
       "       3.63, 3.96, 4.29, 4.62, 4.95, 5.28, 5.61, 5.94, 6.27, 6.6 , 6.93,\n",
       "       7.26, 7.59, 7.92, 8.25, 8.58, 8.91, 9.24, 9.57, 9.9 ])"
      ]
     },
     "execution_count": 65,
     "metadata": {},
     "output_type": "execute_result"
    }
   ],
   "source": [
    "np.arange(0, 10, 0.33)"
   ]
  },
  {
   "cell_type": "code",
   "execution_count": 67,
   "id": "e1ff2e1a-0432-4013-90a4-f873689b9fb4",
   "metadata": {},
   "outputs": [
    {
     "data": {
      "text/plain": [
       "array([ 1. ,  3.5,  6. ,  8.5, 11. ])"
      ]
     },
     "execution_count": 67,
     "metadata": {},
     "output_type": "execute_result"
    }
   ],
   "source": [
    "np.linspace(1,11,5)"
   ]
  },
  {
   "cell_type": "markdown",
   "id": "f8080a7e-bb86-4d88-b383-dc29feeb022c",
   "metadata": {},
   "source": [
    "##### Array Operation"
   ]
  },
  {
   "cell_type": "code",
   "execution_count": 68,
   "id": "71fb7083-1955-43a9-acd3-b0c973fe24f5",
   "metadata": {},
   "outputs": [],
   "source": [
    "num1 = np.array([56,12,33,14,68,99])\n",
    "num2 = np.array([28,28,19,39,38,74])"
   ]
  },
  {
   "cell_type": "code",
   "execution_count": 69,
   "id": "c269771c-f39d-4f7e-a52a-02cb40bf5038",
   "metadata": {},
   "outputs": [
    {
     "data": {
      "text/plain": [
       "array([ 66,  22,  43,  24,  78, 109])"
      ]
     },
     "execution_count": 69,
     "metadata": {},
     "output_type": "execute_result"
    }
   ],
   "source": [
    "num1 + 10"
   ]
  },
  {
   "cell_type": "code",
   "execution_count": 70,
   "id": "1f59ed80-51ba-4203-a0ce-f95db3ced489",
   "metadata": {},
   "outputs": [
    {
     "data": {
      "text/plain": [
       "array([ 5.6,  5.6,  3.8,  7.8,  7.6, 14.8])"
      ]
     },
     "execution_count": 70,
     "metadata": {},
     "output_type": "execute_result"
    }
   ],
   "source": [
    "num2 /5"
   ]
  },
  {
   "cell_type": "code",
   "execution_count": 71,
   "id": "378ccf9c-6830-4afa-9e9b-731a517387a4",
   "metadata": {},
   "outputs": [
    {
     "data": {
      "text/plain": [
       "array([224,  48, 132,  56, 272, 396])"
      ]
     },
     "execution_count": 71,
     "metadata": {},
     "output_type": "execute_result"
    }
   ],
   "source": [
    "num1*4"
   ]
  },
  {
   "cell_type": "code",
   "execution_count": 72,
   "id": "55064e98-a78c-4204-b14b-e00fe0f161d0",
   "metadata": {},
   "outputs": [
    {
     "data": {
      "text/plain": [
       "dtype('int32')"
      ]
     },
     "execution_count": 72,
     "metadata": {},
     "output_type": "execute_result"
    }
   ],
   "source": [
    "num2.dtype"
   ]
  },
  {
   "cell_type": "code",
   "execution_count": 73,
   "id": "700005a8-3bbe-4189-a91d-313be621b607",
   "metadata": {},
   "outputs": [
    {
     "data": {
      "text/plain": [
       "[56, 12, 33, 14, 68, 99, 56, 12, 33, 14, 68, 99, 56, 12, 33, 14, 68, 99]"
      ]
     },
     "execution_count": 73,
     "metadata": {},
     "output_type": "execute_result"
    }
   ],
   "source": [
    "[56,12,33,14,68,99] *3"
   ]
  },
  {
   "cell_type": "code",
   "execution_count": 74,
   "id": "3b77dc1f-e5c4-466b-a214-4fb8b87c45dd",
   "metadata": {},
   "outputs": [
    {
     "data": {
      "text/plain": [
       "array([ 84,  40,  52,  53, 106, 173])"
      ]
     },
     "execution_count": 74,
     "metadata": {},
     "output_type": "execute_result"
    }
   ],
   "source": [
    "num1 + num2"
   ]
  },
  {
   "cell_type": "code",
   "execution_count": 75,
   "id": "8d2ad9bf-d960-42fd-a179-cc39a1a9ef81",
   "metadata": {},
   "outputs": [
    {
     "data": {
      "text/plain": [
       "array([ 28, -16,  14, -25,  30,  25])"
      ]
     },
     "execution_count": 75,
     "metadata": {},
     "output_type": "execute_result"
    }
   ],
   "source": [
    "num1 - num2"
   ]
  },
  {
   "cell_type": "code",
   "execution_count": 76,
   "id": "b956166c-78cc-4324-9a54-22f5422999a4",
   "metadata": {},
   "outputs": [
    {
     "data": {
      "text/plain": [
       "array([1568,  336,  627,  546, 2584, 7326])"
      ]
     },
     "execution_count": 76,
     "metadata": {},
     "output_type": "execute_result"
    }
   ],
   "source": [
    "num1 * num2"
   ]
  },
  {
   "cell_type": "code",
   "execution_count": 77,
   "id": "cba7b8c2-0543-4949-a255-f074e76629f0",
   "metadata": {},
   "outputs": [
    {
     "data": {
      "text/plain": [
       "array([2.        , 0.42857143, 1.73684211, 0.35897436, 1.78947368,\n",
       "       1.33783784])"
      ]
     },
     "execution_count": 77,
     "metadata": {},
     "output_type": "execute_result"
    }
   ],
   "source": [
    "num1 / num2"
   ]
  },
  {
   "cell_type": "markdown",
   "id": "014f505c-6768-4162-8674-66e2eb2d62a4",
   "metadata": {},
   "source": [
    "##### Matrix"
   ]
  },
  {
   "cell_type": "code",
   "execution_count": 88,
   "id": "37c8ffc0-6cb5-49c8-91ec-cfccee438fd0",
   "metadata": {},
   "outputs": [],
   "source": [
    "M = np.array([[4,6,7],[1,2,3],[8,0,2],[9,3,5]]) # 2 Dimensional matrix or Array of array of equal length "
   ]
  },
  {
   "cell_type": "code",
   "execution_count": 79,
   "id": "3ccc7117-4132-4769-b439-e6e80913c37e",
   "metadata": {},
   "outputs": [
    {
     "data": {
      "text/plain": [
       "array([[4, 6, 7],\n",
       "       [1, 2, 3],\n",
       "       [8, 0, 2],\n",
       "       [9, 3, 5]])"
      ]
     },
     "execution_count": 79,
     "metadata": {},
     "output_type": "execute_result"
    }
   ],
   "source": [
    "M"
   ]
  },
  {
   "cell_type": "code",
   "execution_count": 80,
   "id": "78f08d6f-84e7-4b3e-aeed-f0ec52abaa99",
   "metadata": {},
   "outputs": [
    {
     "data": {
      "text/plain": [
       "dtype('int32')"
      ]
     },
     "execution_count": 80,
     "metadata": {},
     "output_type": "execute_result"
    }
   ],
   "source": [
    "M.dtype"
   ]
  },
  {
   "cell_type": "code",
   "execution_count": 81,
   "id": "3d85c4b9-8e07-4635-87f3-fa6ea4631835",
   "metadata": {},
   "outputs": [
    {
     "data": {
      "text/plain": [
       "(4, 3)"
      ]
     },
     "execution_count": 81,
     "metadata": {},
     "output_type": "execute_result"
    }
   ],
   "source": [
    "M.shape"
   ]
  },
  {
   "cell_type": "code",
   "execution_count": 82,
   "id": "3dcde17f-4fb0-4b36-9ab0-ed57a1585403",
   "metadata": {},
   "outputs": [
    {
     "data": {
      "text/plain": [
       "12"
      ]
     },
     "execution_count": 82,
     "metadata": {},
     "output_type": "execute_result"
    }
   ],
   "source": [
    "M.size"
   ]
  },
  {
   "cell_type": "code",
   "execution_count": 83,
   "id": "7b5fb0ce-92da-4d2a-87f1-06472aed9d85",
   "metadata": {},
   "outputs": [
    {
     "data": {
      "text/plain": [
       "2"
      ]
     },
     "execution_count": 83,
     "metadata": {},
     "output_type": "execute_result"
    }
   ],
   "source": [
    "M.ndim"
   ]
  },
  {
   "cell_type": "code",
   "execution_count": 86,
   "id": "aa12b77a-08ab-4318-b33a-23a18ff1550c",
   "metadata": {},
   "outputs": [
    {
     "data": {
      "text/plain": [
       "0"
      ]
     },
     "execution_count": 86,
     "metadata": {},
     "output_type": "execute_result"
    }
   ],
   "source": [
    "M[2][1]   # two method to access elements in matrix"
   ]
  },
  {
   "cell_type": "code",
   "execution_count": 87,
   "id": "be2a40e3-ccd2-41fe-8b25-045d77fcccb3",
   "metadata": {},
   "outputs": [
    {
     "data": {
      "text/plain": [
       "0"
      ]
     },
     "execution_count": 87,
     "metadata": {},
     "output_type": "execute_result"
    }
   ],
   "source": [
    "M[2,1]"
   ]
  },
  {
   "cell_type": "code",
   "execution_count": 90,
   "id": "12b23797-32fb-4578-8d0b-f8d9125c24ad",
   "metadata": {},
   "outputs": [
    {
     "data": {
      "text/plain": [
       "array([[1, 2],\n",
       "       [8, 0]])"
      ]
     },
     "execution_count": 90,
     "metadata": {},
     "output_type": "execute_result"
    }
   ],
   "source": [
    "M[1:3,0:2]"
   ]
  },
  {
   "cell_type": "code",
   "execution_count": 91,
   "id": "5468f319-f1da-48fd-8c38-a0743f0f1955",
   "metadata": {},
   "outputs": [
    {
     "data": {
      "text/plain": [
       "array([[0, 2],\n",
       "       [3, 5]])"
      ]
     },
     "execution_count": 91,
     "metadata": {},
     "output_type": "execute_result"
    }
   ],
   "source": [
    "M[ 2:4,1:4]"
   ]
  },
  {
   "cell_type": "code",
   "execution_count": 92,
   "id": "a49e4574-147a-4fef-a1c3-874ecd8d7b08",
   "metadata": {},
   "outputs": [],
   "source": [
    "# Reshape the matrix"
   ]
  },
  {
   "cell_type": "code",
   "execution_count": 93,
   "id": "c90b4d89-ebed-45f2-93de-7bc7efa01c14",
   "metadata": {},
   "outputs": [
    {
     "data": {
      "text/plain": [
       "array([[4, 6, 7, 1],\n",
       "       [2, 3, 8, 0],\n",
       "       [2, 9, 3, 5]])"
      ]
     },
     "execution_count": 93,
     "metadata": {},
     "output_type": "execute_result"
    }
   ],
   "source": [
    "M1 = M.reshape(3,4)\n",
    "M1"
   ]
  },
  {
   "cell_type": "code",
   "execution_count": 94,
   "id": "be0ae294-90b2-46f2-81e9-5851c200b43a",
   "metadata": {},
   "outputs": [
    {
     "data": {
      "text/plain": [
       "array([[4, 6, 7, 1, 2, 3],\n",
       "       [8, 0, 2, 9, 3, 5]])"
      ]
     },
     "execution_count": 94,
     "metadata": {},
     "output_type": "execute_result"
    }
   ],
   "source": [
    "M2 = M.reshape(2,6)\n",
    "M2"
   ]
  },
  {
   "cell_type": "code",
   "execution_count": 95,
   "id": "d3164ef4-8414-4aac-9d6b-00717b6e8d71",
   "metadata": {},
   "outputs": [
    {
     "data": {
      "text/plain": [
       "array([[4, 6],\n",
       "       [7, 1],\n",
       "       [2, 3],\n",
       "       [8, 0],\n",
       "       [2, 9],\n",
       "       [3, 5]])"
      ]
     },
     "execution_count": 95,
     "metadata": {},
     "output_type": "execute_result"
    }
   ],
   "source": [
    "M3 = M.reshape(6,2)\n",
    "M3"
   ]
  },
  {
   "cell_type": "code",
   "execution_count": 98,
   "id": "1845176e-7989-4c84-adf6-1fe62dd1f0f1",
   "metadata": {},
   "outputs": [],
   "source": [
    "M[1:3,0:2] = np.array([[7,8],[1,1]])"
   ]
  },
  {
   "cell_type": "code",
   "execution_count": 99,
   "id": "bf4b4005-5a21-4e15-a23e-0eee1f15b161",
   "metadata": {},
   "outputs": [
    {
     "data": {
      "text/plain": [
       "array([[4, 6, 7, 7, 8, 3],\n",
       "       [1, 1, 2, 9, 3, 5]])"
      ]
     },
     "execution_count": 99,
     "metadata": {},
     "output_type": "execute_result"
    }
   ],
   "source": [
    "M.reshape(2, -1) # fix rows to 2 , -1 meanscolumn adjust accordingly "
   ]
  },
  {
   "cell_type": "code",
   "execution_count": 101,
   "id": "a9e398ef-a278-44b3-a47e-e16b49c8578b",
   "metadata": {},
   "outputs": [
    {
     "data": {
      "text/plain": [
       "array([[4, 6, 7, 7],\n",
       "       [8, 3, 1, 1],\n",
       "       [2, 9, 3, 5]])"
      ]
     },
     "execution_count": 101,
     "metadata": {},
     "output_type": "execute_result"
    }
   ],
   "source": [
    "M.reshape(-1, 4)  # fix  no of column to 4 and ajust rows "
   ]
  },
  {
   "cell_type": "code",
   "execution_count": 102,
   "id": "c45ba6bc-e4d6-4ad6-91af-0174d7136376",
   "metadata": {},
   "outputs": [
    {
     "data": {
      "text/plain": [
       "array([4, 6, 7, 7, 8, 3, 1, 1, 2, 9, 3, 5])"
      ]
     },
     "execution_count": 102,
     "metadata": {},
     "output_type": "execute_result"
    }
   ],
   "source": [
    "M.reshape(-1)"
   ]
  },
  {
   "cell_type": "code",
   "execution_count": 103,
   "id": "8759754d-0e94-4147-9a27-8cb0cc5d4242",
   "metadata": {},
   "outputs": [
    {
     "data": {
      "text/plain": [
       "array([4, 6, 7, 7, 8, 3, 1, 1, 2, 9, 3, 5])"
      ]
     },
     "execution_count": 103,
     "metadata": {},
     "output_type": "execute_result"
    }
   ],
   "source": [
    "M.flatten()"
   ]
  },
  {
   "cell_type": "code",
   "execution_count": 105,
   "id": "14e30681-f1bb-4eee-a3e9-c6dbb7c0c8d5",
   "metadata": {},
   "outputs": [
    {
     "data": {
      "text/plain": [
       "array([[4, 7, 1, 9],\n",
       "       [6, 8, 1, 3],\n",
       "       [7, 3, 2, 5]])"
      ]
     },
     "execution_count": 105,
     "metadata": {},
     "output_type": "execute_result"
    }
   ],
   "source": [
    "M.T # transpose the matrix"
   ]
  },
  {
   "cell_type": "code",
   "execution_count": 106,
   "id": "84735294-2217-4c1a-b860-960e8e6b1354",
   "metadata": {},
   "outputs": [
    {
     "data": {
      "text/plain": [
       "1"
      ]
     },
     "execution_count": 106,
     "metadata": {},
     "output_type": "execute_result"
    }
   ],
   "source": [
    "M.min()"
   ]
  },
  {
   "cell_type": "code",
   "execution_count": 107,
   "id": "86a2683c-e5f0-4a36-a9d7-611979bcb4d9",
   "metadata": {},
   "outputs": [
    {
     "name": "stdout",
     "output_type": "stream",
     "text": [
      "Help on built-in function min in module builtins:\n",
      "\n",
      "min(...)\n",
      "    min(iterable, *[, default=obj, key=func]) -> value\n",
      "    min(arg1, arg2, *args, *[, key=func]) -> value\n",
      "    \n",
      "    With a single iterable argument, return its smallest item. The\n",
      "    default keyword-only argument specifies an object to return if\n",
      "    the provided iterable is empty.\n",
      "    With two or more arguments, return the smallest argument.\n",
      "\n"
     ]
    }
   ],
   "source": [
    "help(min)"
   ]
  },
  {
   "cell_type": "code",
   "execution_count": 108,
   "id": "070c18e1-fa0b-49ba-bfe7-828a4093c587",
   "metadata": {},
   "outputs": [
    {
     "data": {
      "text/plain": [
       "array([4, 3, 1, 3])"
      ]
     },
     "execution_count": 108,
     "metadata": {},
     "output_type": "execute_result"
    }
   ],
   "source": [
    "M.min(axis=1)"
   ]
  },
  {
   "cell_type": "code",
   "execution_count": 109,
   "id": "b3b23b29-01d5-405e-bf79-4feaecdcc41f",
   "metadata": {},
   "outputs": [
    {
     "data": {
      "text/plain": [
       "array([1, 1, 2])"
      ]
     },
     "execution_count": 109,
     "metadata": {},
     "output_type": "execute_result"
    }
   ],
   "source": [
    "M.min(axis=0)"
   ]
  },
  {
   "cell_type": "code",
   "execution_count": 110,
   "id": "ccd6973e-57df-440d-9cda-761dd936cc50",
   "metadata": {},
   "outputs": [
    {
     "data": {
      "text/plain": [
       "array([17, 18,  4, 17])"
      ]
     },
     "execution_count": 110,
     "metadata": {},
     "output_type": "execute_result"
    }
   ],
   "source": [
    "M.sum(axis = 1)"
   ]
  },
  {
   "cell_type": "code",
   "execution_count": 111,
   "id": "d15bce5d-94d2-49e1-b3d7-c5bde3e2fd97",
   "metadata": {},
   "outputs": [
    {
     "data": {
      "text/plain": [
       "array([21, 18, 17])"
      ]
     },
     "execution_count": 111,
     "metadata": {},
     "output_type": "execute_result"
    }
   ],
   "source": [
    "M.sum(axis = 0)"
   ]
  },
  {
   "cell_type": "code",
   "execution_count": 114,
   "id": "f650ff35-e4f0-40e5-92a7-43c0fd9f1d89",
   "metadata": {},
   "outputs": [
    {
     "data": {
      "text/plain": [
       "9"
      ]
     },
     "execution_count": 114,
     "metadata": {},
     "output_type": "execute_result"
    }
   ],
   "source": [
    "M.argmax()"
   ]
  },
  {
   "cell_type": "code",
   "execution_count": 115,
   "id": "86c8e9ca-9f82-4d3c-b0ac-c68354061c05",
   "metadata": {},
   "outputs": [
    {
     "data": {
      "text/plain": [
       "array([[4, 6, 7],\n",
       "       [7, 8, 3],\n",
       "       [1, 1, 2],\n",
       "       [9, 3, 5]])"
      ]
     },
     "execution_count": 115,
     "metadata": {},
     "output_type": "execute_result"
    }
   ],
   "source": [
    "M"
   ]
  },
  {
   "cell_type": "code",
   "execution_count": 116,
   "id": "188acf51-b343-4d37-b8bb-0af99ccbbdb9",
   "metadata": {},
   "outputs": [
    {
     "data": {
      "text/plain": [
       "1"
      ]
     },
     "execution_count": 116,
     "metadata": {},
     "output_type": "execute_result"
    }
   ],
   "source": [
    "y.argmax()"
   ]
  },
  {
   "cell_type": "code",
   "execution_count": 117,
   "id": "09b6ea85-d766-4de2-99ae-49acdec117fd",
   "metadata": {},
   "outputs": [
    {
     "data": {
      "text/plain": [
       "array([67.  , 89.  , 45.34, 69.  , 11.  ,  1.  ])"
      ]
     },
     "execution_count": 117,
     "metadata": {},
     "output_type": "execute_result"
    }
   ],
   "source": [
    "y"
   ]
  },
  {
   "cell_type": "code",
   "execution_count": 118,
   "id": "246fd569-4048-4b0c-b1b7-dfeb30a6fef8",
   "metadata": {},
   "outputs": [
    {
     "data": {
      "text/plain": [
       "dtype('int32')"
      ]
     },
     "execution_count": 118,
     "metadata": {},
     "output_type": "execute_result"
    }
   ],
   "source": [
    "M.dtype"
   ]
  },
  {
   "cell_type": "code",
   "execution_count": 121,
   "id": "b19451a1-bfc3-4935-9c5a-2a051b33fca8",
   "metadata": {},
   "outputs": [],
   "source": [
    "M= M.astype(np.int16)"
   ]
  },
  {
   "cell_type": "code",
   "execution_count": 122,
   "id": "eba588f9-4b6a-4989-bfce-4b46193f6be1",
   "metadata": {},
   "outputs": [
    {
     "data": {
      "text/plain": [
       "array([[4, 6, 7],\n",
       "       [7, 8, 3],\n",
       "       [1, 1, 2],\n",
       "       [9, 3, 5]], dtype=int16)"
      ]
     },
     "execution_count": 122,
     "metadata": {},
     "output_type": "execute_result"
    }
   ],
   "source": [
    "M"
   ]
  },
  {
   "cell_type": "code",
   "execution_count": 123,
   "id": "e89c4a4f-9dc7-42f4-9baf-3a2c24207209",
   "metadata": {},
   "outputs": [],
   "source": [
    "M= M.astype(np.float16)"
   ]
  },
  {
   "cell_type": "code",
   "execution_count": 124,
   "id": "4bf084af-65e4-4824-bbd3-70b7e444c2d2",
   "metadata": {},
   "outputs": [
    {
     "data": {
      "text/plain": [
       "array([[4., 6., 7.],\n",
       "       [7., 8., 3.],\n",
       "       [1., 1., 2.],\n",
       "       [9., 3., 5.]], dtype=float16)"
      ]
     },
     "execution_count": 124,
     "metadata": {},
     "output_type": "execute_result"
    }
   ],
   "source": [
    "M"
   ]
  },
  {
   "cell_type": "code",
   "execution_count": 125,
   "id": "49c7275e-26e6-4c3e-9602-7fe2cbe33bb5",
   "metadata": {},
   "outputs": [
    {
     "data": {
      "text/plain": [
       "array([ 11,  12,  28,  35,  48,  71, 255], dtype=uint8)"
      ]
     },
     "execution_count": 125,
     "metadata": {},
     "output_type": "execute_result"
    }
   ],
   "source": [
    "x"
   ]
  },
  {
   "cell_type": "code",
   "execution_count": 126,
   "id": "d534d05a-a4e2-40e2-9a23-40a0f6428ce7",
   "metadata": {},
   "outputs": [],
   "source": [
    "y =x"
   ]
  },
  {
   "cell_type": "code",
   "execution_count": 127,
   "id": "b90cf030-d5d0-48c6-99cf-c7a216102141",
   "metadata": {},
   "outputs": [
    {
     "data": {
      "text/plain": [
       "array([ 11,  12,  28,  35,  48,  71, 255], dtype=uint8)"
      ]
     },
     "execution_count": 127,
     "metadata": {},
     "output_type": "execute_result"
    }
   ],
   "source": [
    "y"
   ]
  },
  {
   "cell_type": "code",
   "execution_count": 128,
   "id": "4c1a265b-48c5-4c3d-be21-16889f094349",
   "metadata": {},
   "outputs": [],
   "source": [
    "y[0]= 20"
   ]
  },
  {
   "cell_type": "code",
   "execution_count": 129,
   "id": "1e4027a9-979f-48b7-88b5-20aedcbf23bb",
   "metadata": {},
   "outputs": [
    {
     "data": {
      "text/plain": [
       "array([ 20,  12,  28,  35,  48,  71, 255], dtype=uint8)"
      ]
     },
     "execution_count": 129,
     "metadata": {},
     "output_type": "execute_result"
    }
   ],
   "source": [
    "x"
   ]
  },
  {
   "cell_type": "code",
   "execution_count": 130,
   "id": "ac064bfc-7f65-48d0-a00f-38f23bdbf6b8",
   "metadata": {},
   "outputs": [
    {
     "data": {
      "text/plain": [
       "1487107125104"
      ]
     },
     "execution_count": 130,
     "metadata": {},
     "output_type": "execute_result"
    }
   ],
   "source": [
    "id(x)"
   ]
  },
  {
   "cell_type": "code",
   "execution_count": 131,
   "id": "e0600fff-fd7f-47c7-ae87-46b0c0c150fc",
   "metadata": {},
   "outputs": [
    {
     "data": {
      "text/plain": [
       "1487107125104"
      ]
     },
     "execution_count": 131,
     "metadata": {},
     "output_type": "execute_result"
    }
   ],
   "source": [
    "id(y)"
   ]
  },
  {
   "cell_type": "code",
   "execution_count": 132,
   "id": "230ef02c-a435-43c9-bb6e-195452821065",
   "metadata": {},
   "outputs": [],
   "source": [
    "y = x.copy()"
   ]
  },
  {
   "cell_type": "code",
   "execution_count": 133,
   "id": "4f6fbf68-a6b9-4a6e-99ee-70927bdcff43",
   "metadata": {},
   "outputs": [
    {
     "data": {
      "text/plain": [
       "array([ 20,  12,  28,  35,  48,  71, 255], dtype=uint8)"
      ]
     },
     "execution_count": 133,
     "metadata": {},
     "output_type": "execute_result"
    }
   ],
   "source": [
    "y"
   ]
  },
  {
   "cell_type": "code",
   "execution_count": 134,
   "id": "013626ad-e84c-45ad-8d64-fb1f5ac61e5d",
   "metadata": {},
   "outputs": [],
   "source": [
    "y[1]= 50"
   ]
  },
  {
   "cell_type": "code",
   "execution_count": 135,
   "id": "f3f99137-4c22-4fbf-a06e-5fbbac517563",
   "metadata": {},
   "outputs": [
    {
     "data": {
      "text/plain": [
       "array([ 20,  50,  28,  35,  48,  71, 255], dtype=uint8)"
      ]
     },
     "execution_count": 135,
     "metadata": {},
     "output_type": "execute_result"
    }
   ],
   "source": [
    "y"
   ]
  },
  {
   "cell_type": "code",
   "execution_count": 136,
   "id": "60e76dfe-05ef-4eac-a6c0-a8fe612f06fe",
   "metadata": {},
   "outputs": [
    {
     "data": {
      "text/plain": [
       "array([ 20,  12,  28,  35,  48,  71, 255], dtype=uint8)"
      ]
     },
     "execution_count": 136,
     "metadata": {},
     "output_type": "execute_result"
    }
   ],
   "source": [
    "x"
   ]
  },
  {
   "cell_type": "code",
   "execution_count": 137,
   "id": "1666b572-33ba-4ae1-93ec-7d96008eb8c3",
   "metadata": {},
   "outputs": [],
   "source": [
    "x[1] = 90"
   ]
  },
  {
   "cell_type": "code",
   "execution_count": 138,
   "id": "45742395-42b0-4be7-a6fa-8261727be8b9",
   "metadata": {},
   "outputs": [
    {
     "data": {
      "text/plain": [
       "array([ 20,  90,  28,  35,  48,  71, 255], dtype=uint8)"
      ]
     },
     "execution_count": 138,
     "metadata": {},
     "output_type": "execute_result"
    }
   ],
   "source": [
    "x"
   ]
  },
  {
   "cell_type": "code",
   "execution_count": 139,
   "id": "20d8c085-244e-4400-879e-6e12681d9e97",
   "metadata": {},
   "outputs": [
    {
     "data": {
      "text/plain": [
       "array([ 20,  50,  28,  35,  48,  71, 255], dtype=uint8)"
      ]
     },
     "execution_count": 139,
     "metadata": {},
     "output_type": "execute_result"
    }
   ],
   "source": [
    "y"
   ]
  },
  {
   "cell_type": "code",
   "execution_count": 140,
   "id": "0313fe05-806d-48c9-9880-bb43390dc1c7",
   "metadata": {},
   "outputs": [
    {
     "data": {
      "text/plain": [
       "1487107125104"
      ]
     },
     "execution_count": 140,
     "metadata": {},
     "output_type": "execute_result"
    }
   ],
   "source": [
    "id(x)"
   ]
  },
  {
   "cell_type": "code",
   "execution_count": 141,
   "id": "01d16918-4c29-45ce-88f6-d6f61ae18935",
   "metadata": {},
   "outputs": [
    {
     "data": {
      "text/plain": [
       "1487132212464"
      ]
     },
     "execution_count": 141,
     "metadata": {},
     "output_type": "execute_result"
    }
   ],
   "source": [
    "id(y)"
   ]
  },
  {
   "cell_type": "code",
   "execution_count": null,
   "id": "552c9320-3f1f-4b52-90d2-6af77f04c156",
   "metadata": {},
   "outputs": [],
   "source": []
  }
 ],
 "metadata": {
  "kernelspec": {
   "display_name": "Python 3 (ipykernel)",
   "language": "python",
   "name": "python3"
  },
  "language_info": {
   "codemirror_mode": {
    "name": "ipython",
    "version": 3
   },
   "file_extension": ".py",
   "mimetype": "text/x-python",
   "name": "python",
   "nbconvert_exporter": "python",
   "pygments_lexer": "ipython3",
   "version": "3.11.7"
  }
 },
 "nbformat": 4,
 "nbformat_minor": 5
}
