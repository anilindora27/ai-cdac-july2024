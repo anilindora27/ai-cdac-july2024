{
 "cells": [
  {
   "cell_type": "code",
   "execution_count": 1,
   "id": "45e172c7-05d3-42fc-a20f-fe8b5f568c90",
   "metadata": {},
   "outputs": [],
   "source": [
    "import matplotlib.pyplot as plt\n",
    "import numpy as np\n",
    "import cv2"
   ]
  },
  {
   "cell_type": "code",
   "execution_count": 5,
   "id": "b08ccd45-8dac-486c-8742-2671bee04bf5",
   "metadata": {},
   "outputs": [],
   "source": [
    "img= cv2.imread('images/cat_damaged.png')"
   ]
  },
  {
   "cell_type": "code",
   "execution_count": 6,
   "id": "b80b3fe5-17f8-4ab7-9621-1ddc5c75f6e8",
   "metadata": {},
   "outputs": [],
   "source": [
    "cv2.imshow('Damaged Image', img)\n",
    "cv2.waitKey(0)\n",
    "cv2.destroyAllWindows()"
   ]
  },
  {
   "cell_type": "code",
   "execution_count": null,
   "id": "f63d5aac-ffaf-47d0-b4b3-6f83221d4e2c",
   "metadata": {},
   "outputs": [],
   "source": [
    "height, width = img.shape[:2]"
   ]
  },
  {
   "cell_type": "code",
   "execution_count": 10,
   "id": "16a684f0-848d-4934-a547-bf15ea2c0e30",
   "metadata": {},
   "outputs": [
    {
     "data": {
      "text/plain": [
       "(400, 400)"
      ]
     },
     "execution_count": 10,
     "metadata": {},
     "output_type": "execute_result"
    }
   ],
   "source": [
    "height, width"
   ]
  },
  {
   "cell_type": "code",
   "execution_count": 11,
   "id": "28be44d1-bc1f-4b14-a9e4-ce5fddff6c80",
   "metadata": {},
   "outputs": [],
   "source": [
    "mask = np.zeros ([ height, width, 3], dtype = np.uint8)"
   ]
  },
  {
   "cell_type": "code",
   "execution_count": 12,
   "id": "1215978c-aee9-4d9d-a0df-d91a63d8914c",
   "metadata": {},
   "outputs": [],
   "source": [
    "cv2.imshow('mask Image', mask)\n",
    "cv2.waitKey(0)\n",
    "cv2.destroyAllWindows()"
   ]
  },
  {
   "cell_type": "code",
   "execution_count": 13,
   "id": "8a53a074-e974-4861-83c3-c94bc7ccd985",
   "metadata": {},
   "outputs": [],
   "source": [
    "# Converting all pixel greater than zero to black while black become white\n",
    "for i in range( height):\n",
    "    for j in range(width):\n",
    "        if img[i, j].sum() == 0:\n",
    "            mask[i, j] = [255, 255, 255]"
   ]
  },
  {
   "cell_type": "code",
   "execution_count": 14,
   "id": "b3e3816a-0d93-4798-b944-cebc97438761",
   "metadata": {},
   "outputs": [],
   "source": [
    "cv2.imshow('mask Image', mask)\n",
    "cv2.waitKey(0)\n",
    "cv2.destroyAllWindows()"
   ]
  },
  {
   "cell_type": "code",
   "execution_count": 15,
   "id": "29dcf478-b695-42d4-be1c-caf5915dc862",
   "metadata": {},
   "outputs": [],
   "source": [
    "mask = cv2.cvtColor(mask, cv2.COLOR_BGR2GRAY)"
   ]
  },
  {
   "cell_type": "code",
   "execution_count": 16,
   "id": "6d35a077-54a5-4843-831b-e5055f96c302",
   "metadata": {},
   "outputs": [],
   "source": [
    "# Inpaint.\n",
    "dst = cv2.inpaint(img, mask,3, cv2.INPAINT_NS)"
   ]
  },
  {
   "cell_type": "code",
   "execution_count": 18,
   "id": "696e5912-67fa-4cd0-a3b7-8923c508afd6",
   "metadata": {},
   "outputs": [],
   "source": [
    "cv2.imshow('Final Image', dst)\n",
    "cv2.waitKey(0)\n",
    "cv2.destroyAllWindows()"
   ]
  },
  {
   "cell_type": "code",
   "execution_count": null,
   "id": "0d57350f-6664-48fa-9bb1-04ad0bb2a0e6",
   "metadata": {},
   "outputs": [],
   "source": []
  },
  {
   "cell_type": "code",
   "execution_count": null,
   "id": "3c812de7-2003-439f-a51e-1475a27ef632",
   "metadata": {},
   "outputs": [],
   "source": []
  }
 ],
 "metadata": {
  "kernelspec": {
   "display_name": "Python 3 (ipykernel)",
   "language": "python",
   "name": "python3"
  },
  "language_info": {
   "codemirror_mode": {
    "name": "ipython",
    "version": 3
   },
   "file_extension": ".py",
   "mimetype": "text/x-python",
   "name": "python",
   "nbconvert_exporter": "python",
   "pygments_lexer": "ipython3",
   "version": "3.11.7"
  }
 },
 "nbformat": 4,
 "nbformat_minor": 5
}
