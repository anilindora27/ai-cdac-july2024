{
 "cells": [
  {
   "cell_type": "markdown",
   "id": "d058dd58-7c25-463f-83fd-90ab47e45c51",
   "metadata": {},
   "source": [
    "# Image Transformation"
   ]
  },
  {
   "cell_type": "markdown",
   "id": "8b4ed97c-ad8f-44da-beed-2973aedf192a",
   "metadata": {},
   "source": [
    "##### Image Translation"
   ]
  },
  {
   "cell_type": "code",
   "execution_count": 1,
   "id": "849bb503-529e-4c12-9ec8-2eeba338a3e5",
   "metadata": {},
   "outputs": [],
   "source": [
    "import cv2\n",
    "import matplotlib.pyplot as plt\n",
    "import numpy as np"
   ]
  },
  {
   "cell_type": "code",
   "execution_count": 9,
   "id": "76322ccf-b78f-45a6-8974-9ac6b2b8ee09",
   "metadata": {},
   "outputs": [],
   "source": [
    "image = cv2.imread('images/lenna.png')\n",
    "\n",
    "# Store height and width of the image\n",
    "height, width = image.shape[:2]\n",
    "\n",
    "quarter_height, quarter_width = height/4, width/4\n",
    "\n",
    "T = np.float32([[1,0,quarter_width],[0,1,quarter_height]])\n",
    "\n",
    "# We use warpAffine to transform the image using the matrix , T\n",
    "img_translation = cv2.warpAffine(image, T, (width, height))"
   ]
  },
  {
   "cell_type": "code",
   "execution_count": 10,
   "id": "46626f41-db5e-4171-8fd3-58e0d06b53be",
   "metadata": {},
   "outputs": [
    {
     "data": {
      "text/plain": [
       "array([[  1.,   0., 128.],\n",
       "       [  0.,   1., 128.]], dtype=float32)"
      ]
     },
     "execution_count": 10,
     "metadata": {},
     "output_type": "execute_result"
    }
   ],
   "source": [
    "T"
   ]
  },
  {
   "cell_type": "code",
   "execution_count": 11,
   "id": "9d79fae4-8abb-4f43-abb2-b0777d90249c",
   "metadata": {},
   "outputs": [],
   "source": [
    "cv2.imshow('Original Image', image)\n",
    "cv2.imshow('TranslatedImage', img_translation)\n",
    "cv2.waitKey(0)\n",
    "cv2.destroyAllWindows()"
   ]
  },
  {
   "cell_type": "code",
   "execution_count": 15,
   "id": "648e7834-bba2-43d3-aad1-6133fb29e336",
   "metadata": {},
   "outputs": [],
   "source": [
    "T = np.float32([[1,0,-40],[0,1,-100]])\n",
    "img_translation = cv2.warpAffine(image, T, (width, height))\n",
    "cv2.imshow('Original Image', image)\n",
    "cv2.imshow('TranslatedImage', img_translation)\n",
    "cv2.waitKey(0)\n",
    "cv2.destroyAllWindows()"
   ]
  },
  {
   "cell_type": "code",
   "execution_count": null,
   "id": "54598049-82f2-43c4-aac9-e78ab18943c7",
   "metadata": {},
   "outputs": [],
   "source": []
  }
 ],
 "metadata": {
  "kernelspec": {
   "display_name": "Python 3 (ipykernel)",
   "language": "python",
   "name": "python3"
  },
  "language_info": {
   "codemirror_mode": {
    "name": "ipython",
    "version": 3
   },
   "file_extension": ".py",
   "mimetype": "text/x-python",
   "name": "python",
   "nbconvert_exporter": "python",
   "pygments_lexer": "ipython3",
   "version": "3.11.7"
  }
 },
 "nbformat": 4,
 "nbformat_minor": 5
}
