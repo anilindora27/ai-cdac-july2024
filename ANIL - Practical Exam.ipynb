{
 "cells": [
  {
   "cell_type": "markdown",
   "id": "ad1dd75e-8d9a-4321-9c99-a00502968630",
   "metadata": {},
   "source": [
    "##### ANIL"
   ]
  },
  {
   "cell_type": "markdown",
   "id": "4334d619-95ef-4b40-b3b4-7ac82f6d8f59",
   "metadata": {},
   "source": [
    "##### Dataset"
   ]
  },
  {
   "cell_type": "code",
   "execution_count": 92,
   "id": "f3ef8b1d-3700-464e-9fb4-c600cffce67e",
   "metadata": {},
   "outputs": [],
   "source": [
    "# grapes_new.csv\n",
    "#location: https://mitu.co.in/dataset"
   ]
  },
  {
   "cell_type": "markdown",
   "id": "c744dab3-f654-438c-8f12-bc17f59092b4",
   "metadata": {},
   "source": [
    "##### Import the libraries"
   ]
  },
  {
   "cell_type": "code",
   "execution_count": 93,
   "id": "ecfaa019-a3ce-4082-ae47-b19a19239257",
   "metadata": {},
   "outputs": [],
   "source": [
    "import pandas as pd \n",
    "import numpy as np\n",
    "import matplotlib.pyplot as plt\n",
    "import seaborn as sns"
   ]
  },
  {
   "cell_type": "markdown",
   "id": "69128dc4-c6ea-49d4-92b9-01ecdedcf755",
   "metadata": {},
   "source": [
    "##### Load the data"
   ]
  },
  {
   "cell_type": "code",
   "execution_count": 94,
   "id": "90c3bdef-79e1-48e9-8935-ea1ce9043afb",
   "metadata": {},
   "outputs": [],
   "source": [
    "df = pd.read_csv('datasets/grapes_new.csv')"
   ]
  },
  {
   "cell_type": "code",
   "execution_count": 95,
   "id": "6950bb35-12cc-44dd-8947-33f1cccf28a0",
   "metadata": {},
   "outputs": [
    {
     "data": {
      "text/plain": [
       "(194, 21)"
      ]
     },
     "execution_count": 95,
     "metadata": {},
     "output_type": "execute_result"
    }
   ],
   "source": [
    "df.shape"
   ]
  },
  {
   "cell_type": "code",
   "execution_count": 96,
   "id": "115213eb-1fd1-4017-9b67-7248b1b8b48b",
   "metadata": {},
   "outputs": [
    {
     "data": {
      "text/plain": [
       "Index(['COLOR_INTENSITY', 'SHAPE', 'RIPENESS_PER', 'ALCOHOL_PER',\n",
       "       'MALIC_ACID_PER', 'ASH', 'ALCALINITY_OF_ASH', 'MAGNESIUM_MEASURE',\n",
       "       'TOTAL_PHENOLS', 'FLAVANOIDS', 'PROANTHOCYANINS', 'HUE', 'PROLINE',\n",
       "       'TEMPERATURE', 'AVG_HUMIDITY', 'FERT_NITRO_PER', 'WATER_O2_PER',\n",
       "       'WATER_PH', 'FER_P2O5_PER', 'SOIL_TYPE', 'CLASS'],\n",
       "      dtype='object')"
      ]
     },
     "execution_count": 96,
     "metadata": {},
     "output_type": "execute_result"
    }
   ],
   "source": [
    "df.columns.str.strip()"
   ]
  },
  {
   "cell_type": "code",
   "execution_count": 97,
   "id": "70c8e09d-62f6-4304-8371-0cf9ed523919",
   "metadata": {},
   "outputs": [
    {
     "data": {
      "text/html": [
       "<div>\n",
       "<style scoped>\n",
       "    .dataframe tbody tr th:only-of-type {\n",
       "        vertical-align: middle;\n",
       "    }\n",
       "\n",
       "    .dataframe tbody tr th {\n",
       "        vertical-align: top;\n",
       "    }\n",
       "\n",
       "    .dataframe thead th {\n",
       "        text-align: right;\n",
       "    }\n",
       "</style>\n",
       "<table border=\"1\" class=\"dataframe\">\n",
       "  <thead>\n",
       "    <tr style=\"text-align: right;\">\n",
       "      <th></th>\n",
       "      <th>COLOR_INTENSITY</th>\n",
       "      <th>SHAPE</th>\n",
       "      <th>RIPENESS_PER</th>\n",
       "      <th>ALCOHOL_PER</th>\n",
       "      <th>MALIC_ACID_PER</th>\n",
       "      <th>ASH</th>\n",
       "      <th>ALCALINITY_OF_ASH</th>\n",
       "      <th>MAGNESIUM_MEASURE</th>\n",
       "      <th>TOTAL_PHENOLS</th>\n",
       "      <th>FLAVANOIDS</th>\n",
       "      <th>...</th>\n",
       "      <th>HUE</th>\n",
       "      <th>PROLINE</th>\n",
       "      <th>TEMPERATURE</th>\n",
       "      <th>AVG_HUMIDITY</th>\n",
       "      <th>FERT_NITRO_PER</th>\n",
       "      <th>WATER_O2_PER</th>\n",
       "      <th>WATER_PH</th>\n",
       "      <th>FER_P2O5_PER</th>\n",
       "      <th>SOIL_TYPE</th>\n",
       "      <th>CLASS</th>\n",
       "    </tr>\n",
       "  </thead>\n",
       "  <tbody>\n",
       "    <tr>\n",
       "      <th>0</th>\n",
       "      <td>120.53</td>\n",
       "      <td>elliptical</td>\n",
       "      <td>16.73</td>\n",
       "      <td>14.23</td>\n",
       "      <td>1.71</td>\n",
       "      <td>2.43</td>\n",
       "      <td>15.6</td>\n",
       "      <td>127</td>\n",
       "      <td>2.80</td>\n",
       "      <td>3.06</td>\n",
       "      <td>...</td>\n",
       "      <td>1.04</td>\n",
       "      <td>1065</td>\n",
       "      <td>23.34</td>\n",
       "      <td>54.99</td>\n",
       "      <td>31.21</td>\n",
       "      <td>97.67</td>\n",
       "      <td>7.71</td>\n",
       "      <td>52.02</td>\n",
       "      <td>archean</td>\n",
       "      <td>High</td>\n",
       "    </tr>\n",
       "    <tr>\n",
       "      <th>1</th>\n",
       "      <td>112.57</td>\n",
       "      <td>elliptical</td>\n",
       "      <td>20.30</td>\n",
       "      <td>13.20</td>\n",
       "      <td>1.78</td>\n",
       "      <td>2.14</td>\n",
       "      <td>11.2</td>\n",
       "      <td>100</td>\n",
       "      <td>2.65</td>\n",
       "      <td>2.76</td>\n",
       "      <td>...</td>\n",
       "      <td>1.05</td>\n",
       "      <td>1050</td>\n",
       "      <td>23.40</td>\n",
       "      <td>51.91</td>\n",
       "      <td>31.28</td>\n",
       "      <td>99.05</td>\n",
       "      <td>7.66</td>\n",
       "      <td>48.18</td>\n",
       "      <td>archean</td>\n",
       "      <td>High</td>\n",
       "    </tr>\n",
       "    <tr>\n",
       "      <th>2</th>\n",
       "      <td>120.78</td>\n",
       "      <td>elliptical</td>\n",
       "      <td>20.81</td>\n",
       "      <td>13.16</td>\n",
       "      <td>2.36</td>\n",
       "      <td>2.67</td>\n",
       "      <td>18.6</td>\n",
       "      <td>101</td>\n",
       "      <td>2.80</td>\n",
       "      <td>3.24</td>\n",
       "      <td>...</td>\n",
       "      <td>1.03</td>\n",
       "      <td>1185</td>\n",
       "      <td>22.29</td>\n",
       "      <td>50.69</td>\n",
       "      <td>31.92</td>\n",
       "      <td>97.95</td>\n",
       "      <td>7.66</td>\n",
       "      <td>28.15</td>\n",
       "      <td>archean</td>\n",
       "      <td>High</td>\n",
       "    </tr>\n",
       "    <tr>\n",
       "      <th>3</th>\n",
       "      <td>134.17</td>\n",
       "      <td>elliptical</td>\n",
       "      <td>19.47</td>\n",
       "      <td>14.37</td>\n",
       "      <td>1.95</td>\n",
       "      <td>2.50</td>\n",
       "      <td>16.8</td>\n",
       "      <td>113</td>\n",
       "      <td>3.85</td>\n",
       "      <td>3.49</td>\n",
       "      <td>...</td>\n",
       "      <td>0.86</td>\n",
       "      <td>1480</td>\n",
       "      <td>21.28</td>\n",
       "      <td>47.72</td>\n",
       "      <td>31.79</td>\n",
       "      <td>95.46</td>\n",
       "      <td>7.21</td>\n",
       "      <td>55.95</td>\n",
       "      <td>alluvial</td>\n",
       "      <td>High</td>\n",
       "    </tr>\n",
       "    <tr>\n",
       "      <th>4</th>\n",
       "      <td>112.19</td>\n",
       "      <td>round</td>\n",
       "      <td>17.57</td>\n",
       "      <td>13.24</td>\n",
       "      <td>2.59</td>\n",
       "      <td>2.87</td>\n",
       "      <td>21.0</td>\n",
       "      <td>118</td>\n",
       "      <td>2.80</td>\n",
       "      <td>2.69</td>\n",
       "      <td>...</td>\n",
       "      <td>1.04</td>\n",
       "      <td>735</td>\n",
       "      <td>23.76</td>\n",
       "      <td>45.09</td>\n",
       "      <td>31.86</td>\n",
       "      <td>94.45</td>\n",
       "      <td>7.80</td>\n",
       "      <td>55.99</td>\n",
       "      <td>archean</td>\n",
       "      <td>High</td>\n",
       "    </tr>\n",
       "    <tr>\n",
       "      <th>...</th>\n",
       "      <td>...</td>\n",
       "      <td>...</td>\n",
       "      <td>...</td>\n",
       "      <td>...</td>\n",
       "      <td>...</td>\n",
       "      <td>...</td>\n",
       "      <td>...</td>\n",
       "      <td>...</td>\n",
       "      <td>...</td>\n",
       "      <td>...</td>\n",
       "      <td>...</td>\n",
       "      <td>...</td>\n",
       "      <td>...</td>\n",
       "      <td>...</td>\n",
       "      <td>...</td>\n",
       "      <td>...</td>\n",
       "      <td>...</td>\n",
       "      <td>...</td>\n",
       "      <td>...</td>\n",
       "      <td>...</td>\n",
       "      <td>...</td>\n",
       "    </tr>\n",
       "    <tr>\n",
       "      <th>189</th>\n",
       "      <td>102.34</td>\n",
       "      <td>elliptical</td>\n",
       "      <td>21.23</td>\n",
       "      <td>12.07</td>\n",
       "      <td>2.16</td>\n",
       "      <td>2.17</td>\n",
       "      <td>21.0</td>\n",
       "      <td>85</td>\n",
       "      <td>2.60</td>\n",
       "      <td>2.65</td>\n",
       "      <td>...</td>\n",
       "      <td>0.86</td>\n",
       "      <td>378</td>\n",
       "      <td>25.58</td>\n",
       "      <td>46.15</td>\n",
       "      <td>30.14</td>\n",
       "      <td>89.52</td>\n",
       "      <td>8.49</td>\n",
       "      <td>55.83</td>\n",
       "      <td>alluvial</td>\n",
       "      <td>Medium</td>\n",
       "    </tr>\n",
       "    <tr>\n",
       "      <th>190</th>\n",
       "      <td>109.80</td>\n",
       "      <td>elliptical</td>\n",
       "      <td>21.67</td>\n",
       "      <td>12.43</td>\n",
       "      <td>1.53</td>\n",
       "      <td>2.29</td>\n",
       "      <td>NaN</td>\n",
       "      <td>86</td>\n",
       "      <td>2.74</td>\n",
       "      <td>3.15</td>\n",
       "      <td>...</td>\n",
       "      <td>0.69</td>\n",
       "      <td>352</td>\n",
       "      <td>24.23</td>\n",
       "      <td>52.23</td>\n",
       "      <td>30.72</td>\n",
       "      <td>85.91</td>\n",
       "      <td>7.73</td>\n",
       "      <td>55.47</td>\n",
       "      <td>archean</td>\n",
       "      <td>Medium</td>\n",
       "    </tr>\n",
       "    <tr>\n",
       "      <th>191</th>\n",
       "      <td>103.86</td>\n",
       "      <td>round</td>\n",
       "      <td>22.01</td>\n",
       "      <td>11.79</td>\n",
       "      <td>2.13</td>\n",
       "      <td>2.78</td>\n",
       "      <td>28.5</td>\n",
       "      <td>92</td>\n",
       "      <td>2.13</td>\n",
       "      <td>2.24</td>\n",
       "      <td>...</td>\n",
       "      <td>0.97</td>\n",
       "      <td>466</td>\n",
       "      <td>27.62</td>\n",
       "      <td>48.98</td>\n",
       "      <td>30.46</td>\n",
       "      <td>86.31</td>\n",
       "      <td>7.57</td>\n",
       "      <td>47.57</td>\n",
       "      <td>archean</td>\n",
       "      <td>Medium</td>\n",
       "    </tr>\n",
       "    <tr>\n",
       "      <th>192</th>\n",
       "      <td>98.30</td>\n",
       "      <td>elliptical</td>\n",
       "      <td>21.95</td>\n",
       "      <td>12.37</td>\n",
       "      <td>1.63</td>\n",
       "      <td>2.30</td>\n",
       "      <td>24.5</td>\n",
       "      <td>88</td>\n",
       "      <td>2.22</td>\n",
       "      <td>2.45</td>\n",
       "      <td>...</td>\n",
       "      <td>0.89</td>\n",
       "      <td>342</td>\n",
       "      <td>27.54</td>\n",
       "      <td>47.72</td>\n",
       "      <td>30.01</td>\n",
       "      <td>90.60</td>\n",
       "      <td>7.15</td>\n",
       "      <td>45.91</td>\n",
       "      <td>alluvial</td>\n",
       "      <td>Medium</td>\n",
       "    </tr>\n",
       "    <tr>\n",
       "      <th>193</th>\n",
       "      <td>101.33</td>\n",
       "      <td>elliptical</td>\n",
       "      <td>21.60</td>\n",
       "      <td>12.04</td>\n",
       "      <td>4.30</td>\n",
       "      <td>2.38</td>\n",
       "      <td>NaN</td>\n",
       "      <td>80</td>\n",
       "      <td>2.10</td>\n",
       "      <td>1.75</td>\n",
       "      <td>...</td>\n",
       "      <td>0.79</td>\n",
       "      <td>580</td>\n",
       "      <td>25.10</td>\n",
       "      <td>55.42</td>\n",
       "      <td>30.89</td>\n",
       "      <td>88.14</td>\n",
       "      <td>6.68</td>\n",
       "      <td>52.42</td>\n",
       "      <td>archean</td>\n",
       "      <td>Medium</td>\n",
       "    </tr>\n",
       "  </tbody>\n",
       "</table>\n",
       "<p>194 rows × 21 columns</p>\n",
       "</div>"
      ],
      "text/plain": [
       "     COLOR_INTENSITY       SHAPE  RIPENESS_PER  ALCOHOL_PER  MALIC_ACID_PER  \\\n",
       "0             120.53  elliptical         16.73        14.23            1.71   \n",
       "1             112.57  elliptical         20.30        13.20            1.78   \n",
       "2             120.78  elliptical         20.81        13.16            2.36   \n",
       "3             134.17  elliptical         19.47        14.37            1.95   \n",
       "4             112.19       round         17.57        13.24            2.59   \n",
       "..               ...         ...           ...          ...             ...   \n",
       "189           102.34  elliptical         21.23        12.07            2.16   \n",
       "190           109.80  elliptical         21.67        12.43            1.53   \n",
       "191           103.86       round         22.01        11.79            2.13   \n",
       "192            98.30  elliptical         21.95        12.37            1.63   \n",
       "193           101.33  elliptical         21.60        12.04            4.30   \n",
       "\n",
       "      ASH  ALCALINITY_OF_ASH  MAGNESIUM_MEASURE  TOTAL_PHENOLS  FLAVANOIDS  \\\n",
       "0    2.43               15.6                127           2.80        3.06   \n",
       "1    2.14               11.2                100           2.65        2.76   \n",
       "2    2.67               18.6                101           2.80        3.24   \n",
       "3    2.50               16.8                113           3.85        3.49   \n",
       "4    2.87               21.0                118           2.80        2.69   \n",
       "..    ...                ...                ...            ...         ...   \n",
       "189  2.17               21.0                 85           2.60        2.65   \n",
       "190  2.29                NaN                 86           2.74        3.15   \n",
       "191  2.78               28.5                 92           2.13        2.24   \n",
       "192  2.30               24.5                 88           2.22        2.45   \n",
       "193  2.38                NaN                 80           2.10        1.75   \n",
       "\n",
       "     ...   HUE  PROLINE  TEMPERATURE  AVG_HUMIDITY  FERT_NITRO_PER  \\\n",
       "0    ...  1.04     1065        23.34         54.99           31.21   \n",
       "1    ...  1.05     1050        23.40         51.91           31.28   \n",
       "2    ...  1.03     1185        22.29         50.69           31.92   \n",
       "3    ...  0.86     1480        21.28         47.72           31.79   \n",
       "4    ...  1.04      735        23.76         45.09           31.86   \n",
       "..   ...   ...      ...          ...           ...             ...   \n",
       "189  ...  0.86      378        25.58         46.15           30.14   \n",
       "190  ...  0.69      352        24.23         52.23           30.72   \n",
       "191  ...  0.97      466        27.62         48.98           30.46   \n",
       "192  ...  0.89      342        27.54         47.72           30.01   \n",
       "193  ...  0.79      580        25.10         55.42           30.89   \n",
       "\n",
       "     WATER_O2_PER  WATER_PH  FER_P2O5_PER  SOIL_TYPE   CLASS  \n",
       "0           97.67      7.71         52.02    archean    High  \n",
       "1           99.05      7.66         48.18    archean    High  \n",
       "2           97.95      7.66         28.15    archean    High  \n",
       "3           95.46      7.21         55.95   alluvial    High  \n",
       "4           94.45      7.80         55.99    archean    High  \n",
       "..            ...       ...           ...        ...     ...  \n",
       "189         89.52      8.49         55.83   alluvial  Medium  \n",
       "190         85.91      7.73         55.47    archean  Medium  \n",
       "191         86.31      7.57         47.57    archean  Medium  \n",
       "192         90.60      7.15         45.91   alluvial  Medium  \n",
       "193         88.14      6.68         52.42    archean  Medium  \n",
       "\n",
       "[194 rows x 21 columns]"
      ]
     },
     "execution_count": 97,
     "metadata": {},
     "output_type": "execute_result"
    }
   ],
   "source": [
    "df"
   ]
  },
  {
   "cell_type": "code",
   "execution_count": 98,
   "id": "b0c9d4d0-c48b-410e-af29-f19dbdd84ad8",
   "metadata": {},
   "outputs": [],
   "source": [
    "df=df.dropna()"
   ]
  },
  {
   "cell_type": "code",
   "execution_count": 102,
   "id": "2b980c74-d036-44a1-aeb4-43b8b3129435",
   "metadata": {},
   "outputs": [
    {
     "data": {
      "text/plain": [
       "COLOR_INTENSITY      0\n",
       "SHAPE                0\n",
       "RIPENESS_PER         0\n",
       "ALCOHOL_PER          0\n",
       "MALIC_ACID_PER       0\n",
       "ASH                  0\n",
       "ALCALINITY_OF_ASH    0\n",
       "MAGNESIUM_MEASURE    0\n",
       "TOTAL_PHENOLS        0\n",
       "FLAVANOIDS           0\n",
       "PROANTHOCYANINS      0\n",
       "HUE                  0\n",
       "PROLINE              0\n",
       "TEMPERATURE          0\n",
       "AVG_HUMIDITY         0\n",
       "FERT_NITRO_PER       0\n",
       "WATER_O2_PER         0\n",
       "WATER_PH             0\n",
       "FER_P2O5_PER         0\n",
       "SOIL_TYPE            0\n",
       "CLASS                0\n",
       "dtype: int64"
      ]
     },
     "execution_count": 102,
     "metadata": {},
     "output_type": "execute_result"
    }
   ],
   "source": [
    "df.isnull().sum() "
   ]
  },
  {
   "cell_type": "code",
   "execution_count": 103,
   "id": "d1ef3549-7bda-4e7a-8a53-34115ab157fe",
   "metadata": {},
   "outputs": [
    {
     "data": {
      "text/plain": [
       "(177, 21)"
      ]
     },
     "execution_count": 103,
     "metadata": {},
     "output_type": "execute_result"
    }
   ],
   "source": [
    "df.shape"
   ]
  },
  {
   "cell_type": "markdown",
   "id": "08f7aff1-f050-41b6-af2f-903adfc44d0b",
   "metadata": {},
   "source": [
    "##### Data Encoding"
   ]
  },
  {
   "cell_type": "code",
   "execution_count": 107,
   "id": "5e395862-3edb-4e10-b554-ea6991605b81",
   "metadata": {},
   "outputs": [
    {
     "name": "stderr",
     "output_type": "stream",
     "text": [
      "C:\\Users\\rajesh\\AppData\\Local\\Temp\\ipykernel_10808\\1967505749.py:3: SettingWithCopyWarning: \n",
      "A value is trying to be set on a copy of a slice from a DataFrame.\n",
      "Try using .loc[row_indexer,col_indexer] = value instead\n",
      "\n",
      "See the caveats in the documentation: https://pandas.pydata.org/pandas-docs/stable/user_guide/indexing.html#returning-a-view-versus-a-copy\n",
      "  df['SHAPE'] = le.fit_transform(df['SHAPE'])\n",
      "C:\\Users\\rajesh\\AppData\\Local\\Temp\\ipykernel_10808\\1967505749.py:4: SettingWithCopyWarning: \n",
      "A value is trying to be set on a copy of a slice from a DataFrame.\n",
      "Try using .loc[row_indexer,col_indexer] = value instead\n",
      "\n",
      "See the caveats in the documentation: https://pandas.pydata.org/pandas-docs/stable/user_guide/indexing.html#returning-a-view-versus-a-copy\n",
      "  df['SOIL_TYPE'] = le.fit_transform(df['SOIL_TYPE']);\n"
     ]
    }
   ],
   "source": [
    "from sklearn.preprocessing import LabelEncoder\n",
    "le = LabelEncoder()\n",
    "df['SHAPE'] = le.fit_transform(df['SHAPE'])\n",
    "df['SOIL_TYPE'] = le.fit_transform(df['SOIL_TYPE'])"
   ]
  },
  {
   "cell_type": "markdown",
   "id": "de1fd788-0aaa-440a-9390-d36a9e25a1be",
   "metadata": {},
   "source": [
    "##### Separate the input and output variables"
   ]
  },
  {
   "cell_type": "code",
   "execution_count": 110,
   "id": "a813903f-27e7-4816-8a55-929f34a3f0c2",
   "metadata": {},
   "outputs": [],
   "source": [
    "x = df.drop(['CLASS'], axis = 1)\n",
    "\n",
    "y = df['CLASS']"
   ]
  },
  {
   "cell_type": "code",
   "execution_count": 111,
   "id": "235cd74c-0908-4c0d-bd8c-2467930dde77",
   "metadata": {},
   "outputs": [
    {
     "data": {
      "text/plain": [
       "(177, 20)"
      ]
     },
     "execution_count": 111,
     "metadata": {},
     "output_type": "execute_result"
    }
   ],
   "source": [
    "x.shape"
   ]
  },
  {
   "cell_type": "code",
   "execution_count": 112,
   "id": "dc13a3ad-eb2f-4108-af08-5bdcca1da4c7",
   "metadata": {},
   "outputs": [
    {
     "data": {
      "text/plain": [
       "(177,)"
      ]
     },
     "execution_count": 112,
     "metadata": {},
     "output_type": "execute_result"
    }
   ],
   "source": [
    "y.shape"
   ]
  },
  {
   "cell_type": "code",
   "execution_count": 113,
   "id": "bd37d8a7-154b-4874-a268-8004f1e9a0f8",
   "metadata": {},
   "outputs": [
    {
     "data": {
      "text/plain": [
       "CLASS\n",
       "Medium    68\n",
       "High      57\n",
       "Low       52\n",
       "Name: count, dtype: int64"
      ]
     },
     "execution_count": 113,
     "metadata": {},
     "output_type": "execute_result"
    }
   ],
   "source": [
    "y.value_counts()"
   ]
  },
  {
   "cell_type": "code",
   "execution_count": null,
   "id": "a1ec5ba2-ed92-4692-9b27-397157d0ea4e",
   "metadata": {},
   "outputs": [],
   "source": []
  },
  {
   "cell_type": "code",
   "execution_count": 115,
   "id": "493d3f4c-2ce1-45e3-bc15-c31241fc8b19",
   "metadata": {},
   "outputs": [
    {
     "data": {
      "text/html": [
       "<div>\n",
       "<style scoped>\n",
       "    .dataframe tbody tr th:only-of-type {\n",
       "        vertical-align: middle;\n",
       "    }\n",
       "\n",
       "    .dataframe tbody tr th {\n",
       "        vertical-align: top;\n",
       "    }\n",
       "\n",
       "    .dataframe thead th {\n",
       "        text-align: right;\n",
       "    }\n",
       "</style>\n",
       "<table border=\"1\" class=\"dataframe\">\n",
       "  <thead>\n",
       "    <tr style=\"text-align: right;\">\n",
       "      <th></th>\n",
       "      <th>COLOR_INTENSITY</th>\n",
       "      <th>SHAPE</th>\n",
       "      <th>RIPENESS_PER</th>\n",
       "      <th>ALCOHOL_PER</th>\n",
       "      <th>MALIC_ACID_PER</th>\n",
       "      <th>ASH</th>\n",
       "      <th>ALCALINITY_OF_ASH</th>\n",
       "      <th>MAGNESIUM_MEASURE</th>\n",
       "      <th>TOTAL_PHENOLS</th>\n",
       "      <th>FLAVANOIDS</th>\n",
       "      <th>PROANTHOCYANINS</th>\n",
       "      <th>HUE</th>\n",
       "      <th>PROLINE</th>\n",
       "      <th>TEMPERATURE</th>\n",
       "      <th>AVG_HUMIDITY</th>\n",
       "      <th>FERT_NITRO_PER</th>\n",
       "      <th>WATER_O2_PER</th>\n",
       "      <th>WATER_PH</th>\n",
       "      <th>FER_P2O5_PER</th>\n",
       "      <th>SOIL_TYPE</th>\n",
       "    </tr>\n",
       "  </thead>\n",
       "  <tbody>\n",
       "    <tr>\n",
       "      <th>count</th>\n",
       "      <td>177.000000</td>\n",
       "      <td>177.000000</td>\n",
       "      <td>177.000000</td>\n",
       "      <td>177.000000</td>\n",
       "      <td>177.000000</td>\n",
       "      <td>177.000000</td>\n",
       "      <td>177.000000</td>\n",
       "      <td>177.000000</td>\n",
       "      <td>177.000000</td>\n",
       "      <td>177.000000</td>\n",
       "      <td>177.000000</td>\n",
       "      <td>177.000000</td>\n",
       "      <td>177.000000</td>\n",
       "      <td>177.000000</td>\n",
       "      <td>177.000000</td>\n",
       "      <td>177.000000</td>\n",
       "      <td>177.000000</td>\n",
       "      <td>177.000000</td>\n",
       "      <td>177.000000</td>\n",
       "      <td>177.000000</td>\n",
       "    </tr>\n",
       "    <tr>\n",
       "      <th>mean</th>\n",
       "      <td>116.945650</td>\n",
       "      <td>0.378531</td>\n",
       "      <td>21.578023</td>\n",
       "      <td>13.013446</td>\n",
       "      <td>2.333446</td>\n",
       "      <td>2.366780</td>\n",
       "      <td>19.574576</td>\n",
       "      <td>99.898305</td>\n",
       "      <td>2.272316</td>\n",
       "      <td>1.986215</td>\n",
       "      <td>1.558927</td>\n",
       "      <td>0.961876</td>\n",
       "      <td>741.265537</td>\n",
       "      <td>26.473446</td>\n",
       "      <td>51.082994</td>\n",
       "      <td>30.521299</td>\n",
       "      <td>90.144350</td>\n",
       "      <td>7.687910</td>\n",
       "      <td>41.930565</td>\n",
       "      <td>0.519774</td>\n",
       "    </tr>\n",
       "    <tr>\n",
       "      <th>std</th>\n",
       "      <td>14.534378</td>\n",
       "      <td>0.486397</td>\n",
       "      <td>2.358490</td>\n",
       "      <td>0.810013</td>\n",
       "      <td>1.124594</td>\n",
       "      <td>0.270954</td>\n",
       "      <td>3.471766</td>\n",
       "      <td>14.567665</td>\n",
       "      <td>0.644244</td>\n",
       "      <td>1.008076</td>\n",
       "      <td>0.554385</td>\n",
       "      <td>0.227139</td>\n",
       "      <td>306.893013</td>\n",
       "      <td>3.084337</td>\n",
       "      <td>3.320538</td>\n",
       "      <td>1.147382</td>\n",
       "      <td>5.393477</td>\n",
       "      <td>0.496674</td>\n",
       "      <td>10.445262</td>\n",
       "      <td>0.501026</td>\n",
       "    </tr>\n",
       "    <tr>\n",
       "      <th>min</th>\n",
       "      <td>93.000000</td>\n",
       "      <td>0.000000</td>\n",
       "      <td>16.170000</td>\n",
       "      <td>11.030000</td>\n",
       "      <td>0.740000</td>\n",
       "      <td>1.360000</td>\n",
       "      <td>10.600000</td>\n",
       "      <td>70.000000</td>\n",
       "      <td>0.980000</td>\n",
       "      <td>0.340000</td>\n",
       "      <td>0.410000</td>\n",
       "      <td>0.480000</td>\n",
       "      <td>278.000000</td>\n",
       "      <td>21.020000</td>\n",
       "      <td>44.230000</td>\n",
       "      <td>27.670000</td>\n",
       "      <td>80.360000</td>\n",
       "      <td>6.510000</td>\n",
       "      <td>20.000000</td>\n",
       "      <td>0.000000</td>\n",
       "    </tr>\n",
       "    <tr>\n",
       "      <th>25%</th>\n",
       "      <td>105.440000</td>\n",
       "      <td>0.000000</td>\n",
       "      <td>20.550000</td>\n",
       "      <td>12.360000</td>\n",
       "      <td>1.610000</td>\n",
       "      <td>2.220000</td>\n",
       "      <td>17.200000</td>\n",
       "      <td>88.000000</td>\n",
       "      <td>1.700000</td>\n",
       "      <td>1.090000</td>\n",
       "      <td>1.150000</td>\n",
       "      <td>0.800000</td>\n",
       "      <td>500.000000</td>\n",
       "      <td>24.070000</td>\n",
       "      <td>48.390000</td>\n",
       "      <td>29.880000</td>\n",
       "      <td>85.590000</td>\n",
       "      <td>7.260000</td>\n",
       "      <td>33.450000</td>\n",
       "      <td>0.000000</td>\n",
       "    </tr>\n",
       "    <tr>\n",
       "      <th>50%</th>\n",
       "      <td>115.230000</td>\n",
       "      <td>0.000000</td>\n",
       "      <td>21.860000</td>\n",
       "      <td>13.050000</td>\n",
       "      <td>1.860000</td>\n",
       "      <td>2.360000</td>\n",
       "      <td>19.500000</td>\n",
       "      <td>98.000000</td>\n",
       "      <td>2.230000</td>\n",
       "      <td>2.030000</td>\n",
       "      <td>1.540000</td>\n",
       "      <td>0.980000</td>\n",
       "      <td>675.000000</td>\n",
       "      <td>26.320000</td>\n",
       "      <td>51.280000</td>\n",
       "      <td>30.670000</td>\n",
       "      <td>90.110000</td>\n",
       "      <td>7.670000</td>\n",
       "      <td>43.990000</td>\n",
       "      <td>1.000000</td>\n",
       "    </tr>\n",
       "    <tr>\n",
       "      <th>75%</th>\n",
       "      <td>124.060000</td>\n",
       "      <td>1.000000</td>\n",
       "      <td>23.360000</td>\n",
       "      <td>13.670000</td>\n",
       "      <td>3.030000</td>\n",
       "      <td>2.550000</td>\n",
       "      <td>21.500000</td>\n",
       "      <td>108.000000</td>\n",
       "      <td>2.800000</td>\n",
       "      <td>2.860000</td>\n",
       "      <td>1.920000</td>\n",
       "      <td>1.120000</td>\n",
       "      <td>970.000000</td>\n",
       "      <td>28.890000</td>\n",
       "      <td>53.730000</td>\n",
       "      <td>31.360000</td>\n",
       "      <td>94.450000</td>\n",
       "      <td>8.130000</td>\n",
       "      <td>49.990000</td>\n",
       "      <td>1.000000</td>\n",
       "    </tr>\n",
       "    <tr>\n",
       "      <th>max</th>\n",
       "      <td>167.000000</td>\n",
       "      <td>1.000000</td>\n",
       "      <td>25.200000</td>\n",
       "      <td>14.830000</td>\n",
       "      <td>5.800000</td>\n",
       "      <td>3.230000</td>\n",
       "      <td>30.000000</td>\n",
       "      <td>162.000000</td>\n",
       "      <td>3.880000</td>\n",
       "      <td>5.080000</td>\n",
       "      <td>3.280000</td>\n",
       "      <td>1.710000</td>\n",
       "      <td>1680.000000</td>\n",
       "      <td>32.340000</td>\n",
       "      <td>57.950000</td>\n",
       "      <td>34.160000</td>\n",
       "      <td>99.770000</td>\n",
       "      <td>8.500000</td>\n",
       "      <td>60.870000</td>\n",
       "      <td>1.000000</td>\n",
       "    </tr>\n",
       "  </tbody>\n",
       "</table>\n",
       "</div>"
      ],
      "text/plain": [
       "       COLOR_INTENSITY       SHAPE  RIPENESS_PER  ALCOHOL_PER  MALIC_ACID_PER  \\\n",
       "count       177.000000  177.000000    177.000000   177.000000      177.000000   \n",
       "mean        116.945650    0.378531     21.578023    13.013446        2.333446   \n",
       "std          14.534378    0.486397      2.358490     0.810013        1.124594   \n",
       "min          93.000000    0.000000     16.170000    11.030000        0.740000   \n",
       "25%         105.440000    0.000000     20.550000    12.360000        1.610000   \n",
       "50%         115.230000    0.000000     21.860000    13.050000        1.860000   \n",
       "75%         124.060000    1.000000     23.360000    13.670000        3.030000   \n",
       "max         167.000000    1.000000     25.200000    14.830000        5.800000   \n",
       "\n",
       "              ASH  ALCALINITY_OF_ASH  MAGNESIUM_MEASURE  TOTAL_PHENOLS  \\\n",
       "count  177.000000         177.000000         177.000000     177.000000   \n",
       "mean     2.366780          19.574576          99.898305       2.272316   \n",
       "std      0.270954           3.471766          14.567665       0.644244   \n",
       "min      1.360000          10.600000          70.000000       0.980000   \n",
       "25%      2.220000          17.200000          88.000000       1.700000   \n",
       "50%      2.360000          19.500000          98.000000       2.230000   \n",
       "75%      2.550000          21.500000         108.000000       2.800000   \n",
       "max      3.230000          30.000000         162.000000       3.880000   \n",
       "\n",
       "       FLAVANOIDS  PROANTHOCYANINS         HUE      PROLINE  TEMPERATURE  \\\n",
       "count  177.000000       177.000000  177.000000   177.000000   177.000000   \n",
       "mean     1.986215         1.558927    0.961876   741.265537    26.473446   \n",
       "std      1.008076         0.554385    0.227139   306.893013     3.084337   \n",
       "min      0.340000         0.410000    0.480000   278.000000    21.020000   \n",
       "25%      1.090000         1.150000    0.800000   500.000000    24.070000   \n",
       "50%      2.030000         1.540000    0.980000   675.000000    26.320000   \n",
       "75%      2.860000         1.920000    1.120000   970.000000    28.890000   \n",
       "max      5.080000         3.280000    1.710000  1680.000000    32.340000   \n",
       "\n",
       "       AVG_HUMIDITY  FERT_NITRO_PER  WATER_O2_PER    WATER_PH  FER_P2O5_PER  \\\n",
       "count    177.000000      177.000000    177.000000  177.000000    177.000000   \n",
       "mean      51.082994       30.521299     90.144350    7.687910     41.930565   \n",
       "std        3.320538        1.147382      5.393477    0.496674     10.445262   \n",
       "min       44.230000       27.670000     80.360000    6.510000     20.000000   \n",
       "25%       48.390000       29.880000     85.590000    7.260000     33.450000   \n",
       "50%       51.280000       30.670000     90.110000    7.670000     43.990000   \n",
       "75%       53.730000       31.360000     94.450000    8.130000     49.990000   \n",
       "max       57.950000       34.160000     99.770000    8.500000     60.870000   \n",
       "\n",
       "        SOIL_TYPE  \n",
       "count  177.000000  \n",
       "mean     0.519774  \n",
       "std      0.501026  \n",
       "min      0.000000  \n",
       "25%      0.000000  \n",
       "50%      1.000000  \n",
       "75%      1.000000  \n",
       "max      1.000000  "
      ]
     },
     "execution_count": 115,
     "metadata": {},
     "output_type": "execute_result"
    }
   ],
   "source": [
    "df.describe()"
   ]
  },
  {
   "cell_type": "markdown",
   "id": "d8464c1a-cc1f-47fd-87a2-4a4bc74a6eea",
   "metadata": {},
   "source": [
    "##### Scaling the data"
   ]
  },
  {
   "cell_type": "code",
   "execution_count": 116,
   "id": "08bd3bb7-a15a-4289-a5a9-29eaef2b2f71",
   "metadata": {},
   "outputs": [
    {
     "name": "stderr",
     "output_type": "stream",
     "text": [
      "C:\\Users\\rajesh\\AppData\\Local\\Temp\\ipykernel_10808\\3424306917.py:1: SettingWithCopyWarning: \n",
      "A value is trying to be set on a copy of a slice from a DataFrame\n",
      "\n",
      "See the caveats in the documentation: https://pandas.pydata.org/pandas-docs/stable/user_guide/indexing.html#returning-a-view-versus-a-copy\n",
      "  df.drop_duplicates(inplace = True)\n"
     ]
    }
   ],
   "source": [
    "df.drop_duplicates(inplace = True)"
   ]
  },
  {
   "cell_type": "code",
   "execution_count": 117,
   "id": "67cb0b28-d4fe-43b5-b1a4-7e25e4b32b52",
   "metadata": {},
   "outputs": [
    {
     "data": {
      "text/plain": [
       "(177, 21)"
      ]
     },
     "execution_count": 117,
     "metadata": {},
     "output_type": "execute_result"
    }
   ],
   "source": [
    "df.shape"
   ]
  },
  {
   "cell_type": "code",
   "execution_count": null,
   "id": "cb58270c-8203-48a8-a0de-f141aa6075be",
   "metadata": {},
   "outputs": [],
   "source": []
  },
  {
   "cell_type": "code",
   "execution_count": 118,
   "id": "6e31bb12-b5b3-49c8-895c-b0554043b9f9",
   "metadata": {},
   "outputs": [],
   "source": [
    "from sklearn.preprocessing import MinMaxScaler"
   ]
  },
  {
   "cell_type": "code",
   "execution_count": 119,
   "id": "e82bc7c4-f6c9-42b5-a37e-365d71e65d86",
   "metadata": {},
   "outputs": [],
   "source": [
    "scaler = MinMaxScaler()"
   ]
  },
  {
   "cell_type": "code",
   "execution_count": 120,
   "id": "20303ded-2cec-43fd-abd0-aafd363cf686",
   "metadata": {},
   "outputs": [],
   "source": [
    "x_scaled = scaler.fit_transform(x)"
   ]
  },
  {
   "cell_type": "code",
   "execution_count": 134,
   "id": "d668bce4-f021-441b-bea6-b492aab94c29",
   "metadata": {},
   "outputs": [
    {
     "data": {
      "text/plain": [
       "(177, 20)"
      ]
     },
     "execution_count": 134,
     "metadata": {},
     "output_type": "execute_result"
    }
   ],
   "source": [
    "x_scaled.shape"
   ]
  },
  {
   "cell_type": "markdown",
   "id": "38429ee4-8064-44bf-aef9-87dbef534eba",
   "metadata": {},
   "source": [
    "##### Explore the Output variable"
   ]
  },
  {
   "cell_type": "code",
   "execution_count": 122,
   "id": "b1e1563a-cfd5-4d0e-9077-1105e579a928",
   "metadata": {},
   "outputs": [
    {
     "data": {
      "image/png": "[encoded data removed]",
      "text/plain": [
       "<Figure size 640x480 with 1 Axes>"
      ]
     },
     "metadata": {},
     "output_type": "display_data"
    }
   ],
   "source": [
    "plt.pie(y.value_counts(), labels = y.value_counts().index, autopct='%2.2f%%');"
   ]
  },
  {
   "cell_type": "code",
   "execution_count": 123,
   "id": "ec3fe2f5-791b-402e-bdf7-fd645c4bdadf",
   "metadata": {},
   "outputs": [
    {
     "data": {
      "image/png": "[encoded data removed]",
      "text/plain": [
       "<Figure size 640x480 with 1 Axes>"
      ]
     },
     "metadata": {},
     "output_type": "display_data"
    }
   ],
   "source": [
    "sns.countplot(x=y, palette = 'tab10');"
   ]
  },
  {
   "cell_type": "markdown",
   "id": "aa9152d2-b78d-451d-ab95-f107ca74edf1",
   "metadata": {},
   "source": [
    "##### Explore using kdeplot"
   ]
  },
  {
   "cell_type": "code",
   "execution_count": 124,
   "id": "1da196e6-e0de-4005-8c35-9057e7830722",
   "metadata": {},
   "outputs": [
    {
     "name": "stderr",
     "output_type": "stream",
     "text": [
      "C:\\ProgramData\\anaconda3\\Lib\\site-packages\\seaborn\\_oldcore.py:1119: FutureWarning: use_inf_as_na option is deprecated and will be removed in a future version. Convert inf values to NaN before operating instead.\n",
      "  with pd.option_context('mode.use_inf_as_na', True):\n",
      "C:\\ProgramData\\anaconda3\\Lib\\site-packages\\seaborn\\_oldcore.py:1119: FutureWarning: use_inf_as_na option is deprecated and will be removed in a future version. Convert inf values to NaN before operating instead.\n",
      "  with pd.option_context('mode.use_inf_as_na', True):\n",
      "C:\\ProgramData\\anaconda3\\Lib\\site-packages\\seaborn\\_oldcore.py:1119: FutureWarning: use_inf_as_na option is deprecated and will be removed in a future version. Convert inf values to NaN before operating instead.\n",
      "  with pd.option_context('mode.use_inf_as_na', True):\n",
      "C:\\ProgramData\\anaconda3\\Lib\\site-packages\\seaborn\\_oldcore.py:1119: FutureWarning: use_inf_as_na option is deprecated and will be removed in a future version. Convert inf values to NaN before operating instead.\n",
      "  with pd.option_context('mode.use_inf_as_na', True):\n",
      "C:\\ProgramData\\anaconda3\\Lib\\site-packages\\seaborn\\_oldcore.py:1119: FutureWarning: use_inf_as_na option is deprecated and will be removed in a future version. Convert inf values to NaN before operating instead.\n",
      "  with pd.option_context('mode.use_inf_as_na', True):\n"
     ]
    },
    {
     "data": {
      "image/png": "[encoded data removed]",
      "text/plain": [
       "<Figure size 640x480 with 1 Axes>"
      ]
     },
     "metadata": {},
     "output_type": "display_data"
    }
   ],
   "source": [
    "sns.kdeplot(df['ALCOHOL_PER'])\n",
    "sns.kdeplot(df['TEMPERATURE'])\n",
    "sns.kdeplot(df['AVG_HUMIDITY'])\n",
    "sns.kdeplot(df['FERT_NITRO_PER'])\n",
    "sns.kdeplot(df['WATER_PH']);"
   ]
  },
  {
   "cell_type": "code",
   "execution_count": 129,
   "id": "93ac2661-a1ea-4165-b01a-14b8d70724bf",
   "metadata": {},
   "outputs": [
    {
     "data": {
      "text/plain": [
       "(177, 21)"
      ]
     },
     "execution_count": 129,
     "metadata": {},
     "output_type": "execute_result"
    }
   ],
   "source": [
    "df.shape"
   ]
  },
  {
   "cell_type": "code",
   "execution_count": 130,
   "id": "51bf3ddb-0abe-471b-9010-795fb4c0d0ae",
   "metadata": {},
   "outputs": [
    {
     "data": {
      "text/plain": [
       "(177, 20)"
      ]
     },
     "execution_count": 130,
     "metadata": {},
     "output_type": "execute_result"
    }
   ],
   "source": [
    "x.shape"
   ]
  },
  {
   "cell_type": "code",
   "execution_count": 133,
   "id": "a9df3022-6081-4819-bd57-853a659b7890",
   "metadata": {},
   "outputs": [
    {
     "data": {
      "text/plain": [
       "(177, 20)"
      ]
     },
     "execution_count": 133,
     "metadata": {},
     "output_type": "execute_result"
    }
   ],
   "source": [
    "x_scaled.shape"
   ]
  },
  {
   "cell_type": "markdown",
   "id": "a51e07fc-6f01-4273-bc00-8f6ef00507eb",
   "metadata": {},
   "source": [
    "##### Feature Selection using chi2 and find top 5 features"
   ]
  },
  {
   "cell_type": "code",
   "execution_count": 131,
   "id": "c70bce9e-040e-421d-9b75-d3e890fda716",
   "metadata": {},
   "outputs": [],
   "source": [
    "from sklearn.feature_selection import  SelectKBest, chi2"
   ]
  },
  {
   "cell_type": "code",
   "execution_count": 132,
   "id": "d573677f-25f3-4f44-99ec-35e759528a41",
   "metadata": {},
   "outputs": [],
   "source": [
    "skf = SelectKBest(k = 5, score_func = chi2)"
   ]
  },
  {
   "cell_type": "code",
   "execution_count": 135,
   "id": "8356fe74-c001-4b58-bfcd-afafe6f1320a",
   "metadata": {},
   "outputs": [
    {
     "data": {
      "text/html": [
       "<style>#sk-container-id-1 {color: black;background-color: white;}#sk-container-id-1 pre{padding: 0;}#sk-container-id-1 div.sk-toggleable {background-color: white;}#sk-container-id-1 label.sk-toggleable__label {cursor: pointer;display: block;width: 100%;margin-bottom: 0;padding: 0.3em;box-sizing: border-box;text-align: center;}#sk-container-id-1 label.sk-toggleable__label-arrow:before {content: \"▸\";float: left;margin-right: 0.25em;color: #696969;}#sk-container-id-1 label.sk-toggleable__label-arrow:hover:before {color: black;}#sk-container-id-1 div.sk-estimator:hover label.sk-toggleable__label-arrow:before {color: black;}#sk-container-id-1 div.sk-toggleable__content {max-height: 0;max-width: 0;overflow: hidden;text-align: left;background-color: #f0f8ff;}#sk-container-id-1 div.sk-toggleable__content pre {margin: 0.2em;color: black;border-radius: 0.25em;background-color: #f0f8ff;}#sk-container-id-1 input.sk-toggleable__control:checked~div.sk-toggleable__content {max-height: 200px;max-width: 100%;overflow: auto;}#sk-container-id-1 input.sk-toggleable__control:checked~label.sk-toggleable__label-arrow:before {content: \"▾\";}#sk-container-id-1 div.sk-estimator input.sk-toggleable__control:checked~label.sk-toggleable__label {background-color: #d4ebff;}#sk-container-id-1 div.sk-label input.sk-toggleable__control:checked~label.sk-toggleable__label {background-color: #d4ebff;}#sk-container-id-1 input.sk-hidden--visually {border: 0;clip: rect(1px 1px 1px 1px);clip: rect(1px, 1px, 1px, 1px);height: 1px;margin: -1px;overflow: hidden;padding: 0;position: absolute;width: 1px;}#sk-container-id-1 div.sk-estimator {font-family: monospace;background-color: #f0f8ff;border: 1px dotted black;border-radius: 0.25em;box-sizing: border-box;margin-bottom: 0.5em;}#sk-container-id-1 div.sk-estimator:hover {background-color: #d4ebff;}#sk-container-id-1 div.sk-parallel-item::after {content: \"\";width: 100%;border-bottom: 1px solid gray;flex-grow: 1;}#sk-container-id-1 div.sk-label:hover label.sk-toggleable__label {background-color: #d4ebff;}#sk-container-id-1 div.sk-serial::before {content: \"\";position: absolute;border-left: 1px solid gray;box-sizing: border-box;top: 0;bottom: 0;left: 50%;z-index: 0;}#sk-container-id-1 div.sk-serial {display: flex;flex-direction: column;align-items: center;background-color: white;padding-right: 0.2em;padding-left: 0.2em;position: relative;}#sk-container-id-1 div.sk-item {position: relative;z-index: 1;}#sk-container-id-1 div.sk-parallel {display: flex;align-items: stretch;justify-content: center;background-color: white;position: relative;}#sk-container-id-1 div.sk-item::before, #sk-container-id-1 div.sk-parallel-item::before {content: \"\";position: absolute;border-left: 1px solid gray;box-sizing: border-box;top: 0;bottom: 0;left: 50%;z-index: -1;}#sk-container-id-1 div.sk-parallel-item {display: flex;flex-direction: column;z-index: 1;position: relative;background-color: white;}#sk-container-id-1 div.sk-parallel-item:first-child::after {align-self: flex-end;width: 50%;}#sk-container-id-1 div.sk-parallel-item:last-child::after {align-self: flex-start;width: 50%;}#sk-container-id-1 div.sk-parallel-item:only-child::after {width: 0;}#sk-container-id-1 div.sk-dashed-wrapped {border: 1px dashed gray;margin: 0 0.4em 0.5em 0.4em;box-sizing: border-box;padding-bottom: 0.4em;background-color: white;}#sk-container-id-1 div.sk-label label {font-family: monospace;font-weight: bold;display: inline-block;line-height: 1.2em;}#sk-container-id-1 div.sk-label-container {text-align: center;}#sk-container-id-1 div.sk-container {/* jupyter's `normalize.less` sets `[hidden] { display: none; }` but bootstrap.min.css set `[hidden] { display: none !important; }` so we also need the `!important` here to be able to override the default hidden behavior on the sphinx rendered scikit-learn.org. See: https://github.com/scikit-learn/scikit-learn/issues/21755 */display: inline-block !important;position: relative;}#sk-container-id-1 div.sk-text-repr-fallback {display: none;}</style><div id=\"sk-container-id-1\" class=\"sk-top-container\"><div class=\"sk-text-repr-fallback\"><pre>SelectKBest(k=5, score_func=&lt;function chi2 at 0x000001F9F76AE8E0&gt;)</pre><b>In a Jupyter environment, please rerun this cell to show the HTML representation or trust the notebook. <br />On GitHub, the HTML representation is unable to render, please try loading this page with nbviewer.org.</b></div><div class=\"sk-container\" hidden><div class=\"sk-item\"><div class=\"sk-estimator sk-toggleable\"><input class=\"sk-toggleable__control sk-hidden--visually\" id=\"sk-estimator-id-1\" type=\"checkbox\" checked><label for=\"sk-estimator-id-1\" class=\"sk-toggleable__label sk-toggleable__label-arrow\">SelectKBest</label><div class=\"sk-toggleable__content\"><pre>SelectKBest(k=5, score_func=&lt;function chi2 at 0x000001F9F76AE8E0&gt;)</pre></div></div></div></div></div>"
      ],
      "text/plain": [
       "SelectKBest(k=5, score_func=<function chi2 at 0x000001F9F76AE8E0>)"
      ]
     },
     "execution_count": 135,
     "metadata": {},
     "output_type": "execute_result"
    }
   ],
   "source": [
    "skf.fit(x_scaled,df['CLASS'])"
   ]
  },
  {
   "cell_type": "code",
   "execution_count": 137,
   "id": "831e298b-5514-4b9b-99fd-0769d58c1d1e",
   "metadata": {},
   "outputs": [
    {
     "data": {
      "text/plain": [
       "array([False, False,  True, False, False, False, False, False, False,\n",
       "        True, False, False,  True,  True, False, False,  True, False,\n",
       "       False, False])"
      ]
     },
     "execution_count": 137,
     "metadata": {},
     "output_type": "execute_result"
    }
   ],
   "source": [
    "skf.get_support()"
   ]
  },
  {
   "cell_type": "code",
   "execution_count": 138,
   "id": "c19321d0-dadc-4b49-a77d-c767fb381b7f",
   "metadata": {},
   "outputs": [
    {
     "data": {
      "text/html": [
       "<div>\n",
       "<style scoped>\n",
       "    .dataframe tbody tr th:only-of-type {\n",
       "        vertical-align: middle;\n",
       "    }\n",
       "\n",
       "    .dataframe tbody tr th {\n",
       "        vertical-align: top;\n",
       "    }\n",
       "\n",
       "    .dataframe thead th {\n",
       "        text-align: right;\n",
       "    }\n",
       "</style>\n",
       "<table border=\"1\" class=\"dataframe\">\n",
       "  <thead>\n",
       "    <tr style=\"text-align: right;\">\n",
       "      <th></th>\n",
       "      <th>RIPENESS_PER</th>\n",
       "      <th>FLAVANOIDS</th>\n",
       "      <th>PROLINE</th>\n",
       "      <th>TEMPERATURE</th>\n",
       "      <th>WATER_O2_PER</th>\n",
       "    </tr>\n",
       "  </thead>\n",
       "  <tbody>\n",
       "    <tr>\n",
       "      <th>0</th>\n",
       "      <td>16.73</td>\n",
       "      <td>3.06</td>\n",
       "      <td>1065</td>\n",
       "      <td>23.34</td>\n",
       "      <td>97.67</td>\n",
       "    </tr>\n",
       "    <tr>\n",
       "      <th>1</th>\n",
       "      <td>20.30</td>\n",
       "      <td>2.76</td>\n",
       "      <td>1050</td>\n",
       "      <td>23.40</td>\n",
       "      <td>99.05</td>\n",
       "    </tr>\n",
       "    <tr>\n",
       "      <th>2</th>\n",
       "      <td>20.81</td>\n",
       "      <td>3.24</td>\n",
       "      <td>1185</td>\n",
       "      <td>22.29</td>\n",
       "      <td>97.95</td>\n",
       "    </tr>\n",
       "    <tr>\n",
       "      <th>3</th>\n",
       "      <td>19.47</td>\n",
       "      <td>3.49</td>\n",
       "      <td>1480</td>\n",
       "      <td>21.28</td>\n",
       "      <td>95.46</td>\n",
       "    </tr>\n",
       "    <tr>\n",
       "      <th>4</th>\n",
       "      <td>17.57</td>\n",
       "      <td>2.69</td>\n",
       "      <td>735</td>\n",
       "      <td>23.76</td>\n",
       "      <td>94.45</td>\n",
       "    </tr>\n",
       "    <tr>\n",
       "      <th>...</th>\n",
       "      <td>...</td>\n",
       "      <td>...</td>\n",
       "      <td>...</td>\n",
       "      <td>...</td>\n",
       "      <td>...</td>\n",
       "    </tr>\n",
       "    <tr>\n",
       "      <th>187</th>\n",
       "      <td>22.16</td>\n",
       "      <td>2.65</td>\n",
       "      <td>380</td>\n",
       "      <td>25.69</td>\n",
       "      <td>92.03</td>\n",
       "    </tr>\n",
       "    <tr>\n",
       "      <th>188</th>\n",
       "      <td>21.78</td>\n",
       "      <td>3.03</td>\n",
       "      <td>380</td>\n",
       "      <td>28.32</td>\n",
       "      <td>89.72</td>\n",
       "    </tr>\n",
       "    <tr>\n",
       "      <th>189</th>\n",
       "      <td>21.23</td>\n",
       "      <td>2.65</td>\n",
       "      <td>378</td>\n",
       "      <td>25.58</td>\n",
       "      <td>89.52</td>\n",
       "    </tr>\n",
       "    <tr>\n",
       "      <th>191</th>\n",
       "      <td>22.01</td>\n",
       "      <td>2.24</td>\n",
       "      <td>466</td>\n",
       "      <td>27.62</td>\n",
       "      <td>86.31</td>\n",
       "    </tr>\n",
       "    <tr>\n",
       "      <th>192</th>\n",
       "      <td>21.95</td>\n",
       "      <td>2.45</td>\n",
       "      <td>342</td>\n",
       "      <td>27.54</td>\n",
       "      <td>90.60</td>\n",
       "    </tr>\n",
       "  </tbody>\n",
       "</table>\n",
       "<p>177 rows × 5 columns</p>\n",
       "</div>"
      ],
      "text/plain": [
       "     RIPENESS_PER  FLAVANOIDS  PROLINE  TEMPERATURE  WATER_O2_PER\n",
       "0           16.73        3.06     1065        23.34         97.67\n",
       "1           20.30        2.76     1050        23.40         99.05\n",
       "2           20.81        3.24     1185        22.29         97.95\n",
       "3           19.47        3.49     1480        21.28         95.46\n",
       "4           17.57        2.69      735        23.76         94.45\n",
       "..            ...         ...      ...          ...           ...\n",
       "187         22.16        2.65      380        25.69         92.03\n",
       "188         21.78        3.03      380        28.32         89.72\n",
       "189         21.23        2.65      378        25.58         89.52\n",
       "191         22.01        2.24      466        27.62         86.31\n",
       "192         21.95        2.45      342        27.54         90.60\n",
       "\n",
       "[177 rows x 5 columns]"
      ]
     },
     "execution_count": 138,
     "metadata": {},
     "output_type": "execute_result"
    }
   ],
   "source": [
    "x.iloc[:, skf.get_support()]"
   ]
  },
  {
   "cell_type": "markdown",
   "id": "55a51d13-2d01-4733-bfcb-5a3b2eecc1f9",
   "metadata": {},
   "source": [
    "##### Cross Validation"
   ]
  },
  {
   "cell_type": "code",
   "execution_count": 139,
   "id": "46a8a5c1-0c2a-4edb-b1d1-512da94755f1",
   "metadata": {},
   "outputs": [],
   "source": [
    "from sklearn.model_selection import train_test_split"
   ]
  },
  {
   "cell_type": "code",
   "execution_count": 140,
   "id": "6756a28e-46b3-4259-981d-ad21992ef946",
   "metadata": {},
   "outputs": [],
   "source": [
    "x_train, x_test, y_train, y_test = train_test_split(x_scaled, y, random_state=0, stratify= y,test_size=0.2 )"
   ]
  },
  {
   "cell_type": "markdown",
   "id": "bfd2597b-9348-4d7e-a6f7-da23e7110bb1",
   "metadata": {},
   "source": [
    "##### Implementating all classification algorithm to check accuracy"
   ]
  },
  {
   "cell_type": "code",
   "execution_count": 142,
   "id": "b78ef058-aa65-42f4-984b-0df59b07b90a",
   "metadata": {},
   "outputs": [],
   "source": [
    "from sklearn.linear_model import LogisticRegression\n",
    "from sklearn.tree import DecisionTreeClassifier\n",
    "from sklearn.ensemble import RandomForestClassifier\n",
    "from sklearn.neighbors import KNeighborsClassifier\n",
    "from sklearn.svm import SVC\n",
    "from sklearn.naive_bayes import GaussianNB"
   ]
  },
  {
   "cell_type": "code",
   "execution_count": 143,
   "id": "65507a0d-b65b-4e80-8c3b-2e5252302505",
   "metadata": {},
   "outputs": [],
   "source": [
    "clf_log = LogisticRegression()\n",
    "clf_dt = DecisionTreeClassifier(random_state=0)\n",
    "clf_rf = RandomForestClassifier(random_state=0, n_estimators = 10)\n",
    "clf_knn = KNeighborsClassifier(n_neighbors=5)\n",
    "clf_svm = SVC(random_state=0, kernel='rbf')\n",
    "clf_nb = GaussianNB()"
   ]
  },
  {
   "cell_type": "code",
   "execution_count": 144,
   "id": "44e447df-e3d9-414f-9153-abd71aa74351",
   "metadata": {},
   "outputs": [],
   "source": [
    "clf_log.fit(x_train, y_train)\n",
    "clf_dt.fit(x_train, y_train)\n",
    "clf_rf.fit(x_train, y_train)\n",
    "clf_knn.fit(x_train, y_train)\n",
    "clf_svm.fit(x_train, y_train)\n",
    "clf_nb.fit(x_train, y_train);"
   ]
  },
  {
   "cell_type": "code",
   "execution_count": 147,
   "id": "69fe698b-6ea2-444d-ad4c-ee200fcf9901",
   "metadata": {},
   "outputs": [],
   "source": [
    "y_pred_log = clf_log.predict(x_test)\n",
    "y_pred_dt = clf_dt.predict(x_test)\n",
    "y_pred_rf = clf_rf.predict(x_test)\n",
    "y_pred_knn = clf_knn.predict(x_test)\n",
    "y_pred_svm = clf_svm.predict(x_test)\n",
    "y_pred_nb = clf_nb.predict(x_test)"
   ]
  },
  {
   "cell_type": "code",
   "execution_count": 148,
   "id": "76244664-4240-4e92-800b-55cdc423fe35",
   "metadata": {},
   "outputs": [],
   "source": [
    "from sklearn.metrics import confusion_matrix, classification_report\n",
    "from sklearn.metrics import accuracy_score, ConfusionMatrixDisplay"
   ]
  },
  {
   "cell_type": "code",
   "execution_count": 149,
   "id": "78faae07-d5fb-49b1-a9ff-96184b190a70",
   "metadata": {},
   "outputs": [
    {
     "name": "stdout",
     "output_type": "stream",
     "text": [
      "Log: 0.9722222222222222\n",
      "Dec Tree: 0.9166666666666666\n",
      "RF: 0.9722222222222222\n",
      "KNN: 0.9444444444444444\n",
      "SVM: 0.9722222222222222\n",
      "Naive Bayes: 0.9166666666666666\n"
     ]
    }
   ],
   "source": [
    "print('Log:', accuracy_score(y_test, y_pred_log))\n",
    "print('Dec Tree:', accuracy_score(y_test, y_pred_dt))\n",
    "print('RF:', accuracy_score(y_test, y_pred_rf))\n",
    "print('KNN:', accuracy_score(y_test, y_pred_knn))\n",
    "print('SVM:', accuracy_score(y_test, y_pred_svm))\n",
    "print('Naive Bayes:', accuracy_score(y_test, y_pred_nb))"
   ]
  },
  {
   "cell_type": "code",
   "execution_count": 151,
   "id": "c493bd72-4196-48de-95f9-c72bf472e6c9",
   "metadata": {},
   "outputs": [],
   "source": [
    "import time"
   ]
  },
  {
   "cell_type": "code",
   "execution_count": 152,
   "id": "f002921a-d4cf-4ed7-bee8-a11a4b0529cd",
   "metadata": {},
   "outputs": [
    {
     "name": "stdout",
     "output_type": "stream",
     "text": [
      "Decision Tree time taken: 0.01200103759765625\n",
      "Random Forest time taken: 0.002965688705444336\n",
      "Decision Tree time taken: 0.01799941062927246\n",
      "Random Forest time taken: 0.0010018348693847656\n",
      "Decision Tree time taken: 0.002000570297241211\n",
      "Random Forest time taken: 0.0009965896606445312\n"
     ]
    }
   ],
   "source": [
    "start = time.time()\n",
    "clf_log.fit(x_train, y_train)\n",
    "end = time.time()\n",
    "print('Decision Tree time taken:', end - start)\n",
    "\n",
    "start = time.time()\n",
    "clf_dt.fit(x_train, y_train)\n",
    "end = time.time()\n",
    "print('Random Forest time taken:', end - start)\n",
    "\n",
    "start = time.time()\n",
    "clf_rf.fit(x_train, y_train)\n",
    "end = time.time()\n",
    "print('Decision Tree time taken:', end - start)\n",
    "\n",
    "start = time.time()\n",
    "clf_knn.fit(x_train, y_train)\n",
    "end = time.time()\n",
    "print('Random Forest time taken:', end - start)\n",
    "\n",
    "start = time.time()\n",
    "clf_svm.fit(x_train, y_train)\n",
    "end = time.time()\n",
    "print('Decision Tree time taken:', end - start)\n",
    "\n",
    "start = time.time()\n",
    "clf_nb.fit(x_train, y_train)\n",
    "end = time.time()\n",
    "print('Random Forest time taken:', end - start)"
   ]
  },
  {
   "cell_type": "code",
   "execution_count": 154,
   "id": "0ef5842a-6456-41d9-8e88-93323fbd65c2",
   "metadata": {},
   "outputs": [
    {
     "ename": "ValueError",
     "evalue": "If using all scalar values, you must pass an index",
     "output_type": "error",
     "traceback": [
      "\u001b[1;31m---------------------------------------------------------------------------\u001b[0m",
      "\u001b[1;31mValueError\u001b[0m                                Traceback (most recent call last)",
      "Cell \u001b[1;32mIn[154], line 1\u001b[0m\n\u001b[1;32m----> 1\u001b[0m result \u001b[38;5;241m=\u001b[39m pd\u001b[38;5;241m.\u001b[39mDataFrame({\n\u001b[0;32m      2\u001b[0m     \u001b[38;5;124m'\u001b[39m\u001b[38;5;124mAccuracy\u001b[39m\u001b[38;5;124m'\u001b[39m: accuracy_score(y_test, y_pred_log),\n\u001b[0;32m      3\u001b[0m     \u001b[38;5;124m'\u001b[39m\u001b[38;5;124mtime\u001b[39m\u001b[38;5;124m'\u001b[39m:  end \u001b[38;5;241m-\u001b[39m start\n\u001b[0;32m      4\u001b[0m })\n\u001b[0;32m      5\u001b[0m result\n",
      "File \u001b[1;32mC:\\ProgramData\\anaconda3\\Lib\\site-packages\\pandas\\core\\frame.py:733\u001b[0m, in \u001b[0;36mDataFrame.__init__\u001b[1;34m(self, data, index, columns, dtype, copy)\u001b[0m\n\u001b[0;32m    727\u001b[0m     mgr \u001b[38;5;241m=\u001b[39m \u001b[38;5;28mself\u001b[39m\u001b[38;5;241m.\u001b[39m_init_mgr(\n\u001b[0;32m    728\u001b[0m         data, axes\u001b[38;5;241m=\u001b[39m{\u001b[38;5;124m\"\u001b[39m\u001b[38;5;124mindex\u001b[39m\u001b[38;5;124m\"\u001b[39m: index, \u001b[38;5;124m\"\u001b[39m\u001b[38;5;124mcolumns\u001b[39m\u001b[38;5;124m\"\u001b[39m: columns}, dtype\u001b[38;5;241m=\u001b[39mdtype, copy\u001b[38;5;241m=\u001b[39mcopy\n\u001b[0;32m    729\u001b[0m     )\n\u001b[0;32m    731\u001b[0m \u001b[38;5;28;01melif\u001b[39;00m \u001b[38;5;28misinstance\u001b[39m(data, \u001b[38;5;28mdict\u001b[39m):\n\u001b[0;32m    732\u001b[0m     \u001b[38;5;66;03m# GH#38939 de facto copy defaults to False only in non-dict cases\u001b[39;00m\n\u001b[1;32m--> 733\u001b[0m     mgr \u001b[38;5;241m=\u001b[39m dict_to_mgr(data, index, columns, dtype\u001b[38;5;241m=\u001b[39mdtype, copy\u001b[38;5;241m=\u001b[39mcopy, typ\u001b[38;5;241m=\u001b[39mmanager)\n\u001b[0;32m    734\u001b[0m \u001b[38;5;28;01melif\u001b[39;00m \u001b[38;5;28misinstance\u001b[39m(data, ma\u001b[38;5;241m.\u001b[39mMaskedArray):\n\u001b[0;32m    735\u001b[0m     \u001b[38;5;28;01mfrom\u001b[39;00m \u001b[38;5;21;01mnumpy\u001b[39;00m\u001b[38;5;21;01m.\u001b[39;00m\u001b[38;5;21;01mma\u001b[39;00m \u001b[38;5;28;01mimport\u001b[39;00m mrecords\n",
      "File \u001b[1;32mC:\\ProgramData\\anaconda3\\Lib\\site-packages\\pandas\\core\\internals\\construction.py:503\u001b[0m, in \u001b[0;36mdict_to_mgr\u001b[1;34m(data, index, columns, dtype, typ, copy)\u001b[0m\n\u001b[0;32m    499\u001b[0m     \u001b[38;5;28;01melse\u001b[39;00m:\n\u001b[0;32m    500\u001b[0m         \u001b[38;5;66;03m# dtype check to exclude e.g. range objects, scalars\u001b[39;00m\n\u001b[0;32m    501\u001b[0m         arrays \u001b[38;5;241m=\u001b[39m [x\u001b[38;5;241m.\u001b[39mcopy() \u001b[38;5;28;01mif\u001b[39;00m \u001b[38;5;28mhasattr\u001b[39m(x, \u001b[38;5;124m\"\u001b[39m\u001b[38;5;124mdtype\u001b[39m\u001b[38;5;124m\"\u001b[39m) \u001b[38;5;28;01melse\u001b[39;00m x \u001b[38;5;28;01mfor\u001b[39;00m x \u001b[38;5;129;01min\u001b[39;00m arrays]\n\u001b[1;32m--> 503\u001b[0m \u001b[38;5;28;01mreturn\u001b[39;00m arrays_to_mgr(arrays, columns, index, dtype\u001b[38;5;241m=\u001b[39mdtype, typ\u001b[38;5;241m=\u001b[39mtyp, consolidate\u001b[38;5;241m=\u001b[39mcopy)\n",
      "File \u001b[1;32mC:\\ProgramData\\anaconda3\\Lib\\site-packages\\pandas\\core\\internals\\construction.py:114\u001b[0m, in \u001b[0;36marrays_to_mgr\u001b[1;34m(arrays, columns, index, dtype, verify_integrity, typ, consolidate)\u001b[0m\n\u001b[0;32m    111\u001b[0m \u001b[38;5;28;01mif\u001b[39;00m verify_integrity:\n\u001b[0;32m    112\u001b[0m     \u001b[38;5;66;03m# figure out the index, if necessary\u001b[39;00m\n\u001b[0;32m    113\u001b[0m     \u001b[38;5;28;01mif\u001b[39;00m index \u001b[38;5;129;01mis\u001b[39;00m \u001b[38;5;28;01mNone\u001b[39;00m:\n\u001b[1;32m--> 114\u001b[0m         index \u001b[38;5;241m=\u001b[39m _extract_index(arrays)\n\u001b[0;32m    115\u001b[0m     \u001b[38;5;28;01melse\u001b[39;00m:\n\u001b[0;32m    116\u001b[0m         index \u001b[38;5;241m=\u001b[39m ensure_index(index)\n",
      "File \u001b[1;32mC:\\ProgramData\\anaconda3\\Lib\\site-packages\\pandas\\core\\internals\\construction.py:667\u001b[0m, in \u001b[0;36m_extract_index\u001b[1;34m(data)\u001b[0m\n\u001b[0;32m    664\u001b[0m         \u001b[38;5;28;01mraise\u001b[39;00m \u001b[38;5;167;01mValueError\u001b[39;00m(\u001b[38;5;124m\"\u001b[39m\u001b[38;5;124mPer-column arrays must each be 1-dimensional\u001b[39m\u001b[38;5;124m\"\u001b[39m)\n\u001b[0;32m    666\u001b[0m \u001b[38;5;28;01mif\u001b[39;00m \u001b[38;5;129;01mnot\u001b[39;00m indexes \u001b[38;5;129;01mand\u001b[39;00m \u001b[38;5;129;01mnot\u001b[39;00m raw_lengths:\n\u001b[1;32m--> 667\u001b[0m     \u001b[38;5;28;01mraise\u001b[39;00m \u001b[38;5;167;01mValueError\u001b[39;00m(\u001b[38;5;124m\"\u001b[39m\u001b[38;5;124mIf using all scalar values, you must pass an index\u001b[39m\u001b[38;5;124m\"\u001b[39m)\n\u001b[0;32m    669\u001b[0m \u001b[38;5;28;01mif\u001b[39;00m have_series:\n\u001b[0;32m    670\u001b[0m     index \u001b[38;5;241m=\u001b[39m union_indexes(indexes)\n",
      "\u001b[1;31mValueError\u001b[0m: If using all scalar values, you must pass an index"
     ]
    }
   ],
   "source": [
    "result = pd.DataFrame({\n",
    "    'Accuracy': accuracy_score(y_test, y_pred_log),\n",
    "    'time':  end - start\n",
    "})\n",
    "result"
   ]
  },
  {
   "cell_type": "code",
   "execution_count": null,
   "id": "a5d08aae-f179-4d4a-b801-c611a0176497",
   "metadata": {},
   "outputs": [],
   "source": []
  }
 ],
 "metadata": {
  "kernelspec": {
   "display_name": "Python 3 (ipykernel)",
   "language": "python",
   "name": "python3"
  },
  "language_info": {
   "codemirror_mode": {
    "name": "ipython",
    "version": 3
   },
   "file_extension": ".py",
   "mimetype": "text/x-python",
   "name": "python",
   "nbconvert_exporter": "python",
   "pygments_lexer": "ipython3",
   "version": "3.11.7"
  }
 },
 "nbformat": 4,
 "nbformat_minor": 5
}
