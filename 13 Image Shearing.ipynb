{
 "cells": [
  {
   "cell_type": "code",
   "execution_count": 1,
   "id": "5d92474f-cea7-4721-b7b7-8600f72f7a90",
   "metadata": {},
   "outputs": [],
   "source": [
    "import cv2\n",
    "import matplotlib.pyplot as plt\n",
    "import numpy as np"
   ]
  },
  {
   "cell_type": "code",
   "execution_count": 3,
   "id": "35f9edb1-28b3-4832-ac4a-c715fe289bf4",
   "metadata": {},
   "outputs": [],
   "source": [
    "image = cv2.imread('images/lenna.png')"
   ]
  },
  {
   "cell_type": "code",
   "execution_count": 11,
   "id": "52038cf9-9bff-464f-a56a-5e214c5c885b",
   "metadata": {},
   "outputs": [],
   "source": [
    "# Define shearing factors ( adjust as needed)\n",
    "shear_x = 0.25 # Shear along x asis\n",
    "shear_y = 0.25 # Shear along y axis\n",
    "\n",
    "# Create transformation matrix\n",
    "M = np.array([[1, shear_x, 0],\n",
    "              [shear_y, 1, 0],\n",
    "              [0, 0, 1]])\n",
    "rows, cols,_ = image.shape\n",
    "T = np.float32([[1,0,0], [0, 1, 50]])\n",
    "\n",
    "# We use warpAffine to transform the image using the matrix, T\n",
    "img_translation = cv2.warpAffine(image, T, (int(cols*1.5), int(rows*1.5)))\n",
    "sheared_img = cv2.warpPerspective(img_translation, M, (int(cols*1.5), int(rows*1.5)))\n",
    "\n",
    "cv2.imshow('img', sheared_img)\n",
    "cv2.waitKey(0)\n",
    "cv2.destroyAllWindows()"
   ]
  },
  {
   "cell_type": "code",
   "execution_count": null,
   "id": "e40ca5b6-6f2a-43b7-8c54-480cf878d4d3",
   "metadata": {},
   "outputs": [],
   "source": []
  }
 ],
 "metadata": {
  "kernelspec": {
   "display_name": "Python 3 (ipykernel)",
   "language": "python",
   "name": "python3"
  },
  "language_info": {
   "codemirror_mode": {
    "name": "ipython",
    "version": 3
   },
   "file_extension": ".py",
   "mimetype": "text/x-python",
   "name": "python",
   "nbconvert_exporter": "python",
   "pygments_lexer": "ipython3",
   "version": "3.11.7"
  }
 },
 "nbformat": 4,
 "nbformat_minor": 5
}
